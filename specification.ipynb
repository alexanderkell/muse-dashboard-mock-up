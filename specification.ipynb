{
 "cells": [
  {
   "cell_type": "code",
   "execution_count": 1,
   "metadata": {},
   "outputs": [],
   "source": [
    "# !python -m pip install --user git+https://github.com/SGIModel/StarMuse"
   ]
  },
  {
   "cell_type": "code",
   "execution_count": 2,
   "metadata": {},
   "outputs": [
    {
     "name": "stderr",
     "output_type": "stream",
     "text": [
      "-- 2021-02-12 17:27:52 - muse.sectors.register - INFO\n",
      "Sector legacy registered.\n",
      "\n",
      "-- 2021-02-12 17:27:52 - muse.sectors.register - INFO\n",
      "Sector preset registered, with alias presets.\n",
      "\n",
      "-- 2021-02-12 17:27:52 - muse.sectors.register - INFO\n",
      "Sector default registered.\n",
      "\n"
     ]
    }
   ],
   "source": [
    "import pandas as pd\n",
    "import seaborn as sns\n",
    "import matplotlib.pyplot as plt\n",
    "from muse.mca import MCA\n",
    "import logging"
   ]
  },
  {
   "cell_type": "code",
   "execution_count": 3,
   "metadata": {},
   "outputs": [],
   "source": [
    "pd.set_option('display.max_columns', None)"
   ]
  },
  {
   "cell_type": "markdown",
   "metadata": {},
   "source": [
    "# Inputs\n",
    "\n",
    "I think that, for this project, the main inputs are the Technodata files and the agent file. By allowing the user to play with these values, significant differences between scenario results should be displayed.\n",
    "\n",
    "The key variables to change in the Technodata files are as follows, the range of the values are surrounded by square brackets:\n",
    "- UtilizationFactor, [0,1]\n",
    "- cap_par [0,100]\n",
    "- MaxCapacityAddition [0,100]\n",
    "- MaxCapacityGrowth [0,100]\n",
    "- TotalCapacityLimit [0,1000]\n",
    "\n",
    "\n",
    "There is no need to add an entire row at this stage, as this would require multiple changes elsewhere in the input files."
   ]
  },
  {
   "cell_type": "code",
   "execution_count": 4,
   "metadata": {},
   "outputs": [
    {
     "data": {
      "text/html": [
       "<div>\n",
       "<style scoped>\n",
       "    .dataframe tbody tr th:only-of-type {\n",
       "        vertical-align: middle;\n",
       "    }\n",
       "\n",
       "    .dataframe tbody tr th {\n",
       "        vertical-align: top;\n",
       "    }\n",
       "\n",
       "    .dataframe thead th {\n",
       "        text-align: right;\n",
       "    }\n",
       "</style>\n",
       "<table border=\"1\" class=\"dataframe\">\n",
       "  <thead>\n",
       "    <tr style=\"text-align: right;\">\n",
       "      <th></th>\n",
       "      <th>ProcessName</th>\n",
       "      <th>RegionName</th>\n",
       "      <th>Time</th>\n",
       "      <th>Level</th>\n",
       "      <th>cap_par</th>\n",
       "      <th>cap_exp</th>\n",
       "      <th>fix_par</th>\n",
       "      <th>fix_exp</th>\n",
       "      <th>var_par</th>\n",
       "      <th>var_exp</th>\n",
       "      <th>MaxCapacityAddition</th>\n",
       "      <th>MaxCapacityGrowth</th>\n",
       "      <th>TotalCapacityLimit</th>\n",
       "      <th>TechnicalLife</th>\n",
       "      <th>UtilizationFactor</th>\n",
       "      <th>ScalingSize</th>\n",
       "      <th>efficiency</th>\n",
       "      <th>Availabiliy year</th>\n",
       "      <th>InterestRate</th>\n",
       "      <th>Type</th>\n",
       "      <th>Fuel</th>\n",
       "      <th>EndUse</th>\n",
       "      <th>Agent2</th>\n",
       "      <th>Agent1</th>\n",
       "    </tr>\n",
       "  </thead>\n",
       "  <tbody>\n",
       "    <tr>\n",
       "      <th>0</th>\n",
       "      <td>Unit</td>\n",
       "      <td>-</td>\n",
       "      <td>Year</td>\n",
       "      <td>-</td>\n",
       "      <td>MUS$2010/PJ_a</td>\n",
       "      <td>-</td>\n",
       "      <td>MUS$2010/PJ</td>\n",
       "      <td>-</td>\n",
       "      <td>MUS$2010/PJ</td>\n",
       "      <td>-</td>\n",
       "      <td>PJ</td>\n",
       "      <td>%</td>\n",
       "      <td>PJ</td>\n",
       "      <td>Years</td>\n",
       "      <td>-</td>\n",
       "      <td>PJ</td>\n",
       "      <td>%</td>\n",
       "      <td>-</td>\n",
       "      <td>-</td>\n",
       "      <td>-</td>\n",
       "      <td>-</td>\n",
       "      <td>-</td>\n",
       "      <td>Retrofit</td>\n",
       "      <td>New</td>\n",
       "    </tr>\n",
       "    <tr>\n",
       "      <th>1</th>\n",
       "      <td>gasCCGT</td>\n",
       "      <td>R1</td>\n",
       "      <td>2020</td>\n",
       "      <td>fixed</td>\n",
       "      <td>23.78234399</td>\n",
       "      <td>1</td>\n",
       "      <td>0</td>\n",
       "      <td>1</td>\n",
       "      <td>0</td>\n",
       "      <td>1</td>\n",
       "      <td>2</td>\n",
       "      <td>0.02</td>\n",
       "      <td>60</td>\n",
       "      <td>35</td>\n",
       "      <td>0.9</td>\n",
       "      <td>0.00000189</td>\n",
       "      <td>86</td>\n",
       "      <td>1</td>\n",
       "      <td>0.1</td>\n",
       "      <td>energy</td>\n",
       "      <td>gas</td>\n",
       "      <td>electricity</td>\n",
       "      <td>1</td>\n",
       "      <td>0</td>\n",
       "    </tr>\n",
       "    <tr>\n",
       "      <th>2</th>\n",
       "      <td>windturbine</td>\n",
       "      <td>R1</td>\n",
       "      <td>2020</td>\n",
       "      <td>fixed</td>\n",
       "      <td>36.30771182</td>\n",
       "      <td>1</td>\n",
       "      <td>0</td>\n",
       "      <td>1</td>\n",
       "      <td>0</td>\n",
       "      <td>1</td>\n",
       "      <td>2</td>\n",
       "      <td>0.02</td>\n",
       "      <td>60</td>\n",
       "      <td>25</td>\n",
       "      <td>0.4</td>\n",
       "      <td>0.00000189</td>\n",
       "      <td>86</td>\n",
       "      <td>1</td>\n",
       "      <td>0.1</td>\n",
       "      <td>energy</td>\n",
       "      <td>wind</td>\n",
       "      <td>electricity</td>\n",
       "      <td>1</td>\n",
       "      <td>0</td>\n",
       "    </tr>\n",
       "  </tbody>\n",
       "</table>\n",
       "</div>"
      ],
      "text/plain": [
       "   ProcessName RegionName  Time  Level        cap_par cap_exp      fix_par  \\\n",
       "0         Unit          -  Year      -  MUS$2010/PJ_a       -  MUS$2010/PJ   \n",
       "1      gasCCGT         R1  2020  fixed    23.78234399       1            0   \n",
       "2  windturbine         R1  2020  fixed    36.30771182       1            0   \n",
       "\n",
       "  fix_exp      var_par var_exp MaxCapacityAddition MaxCapacityGrowth  \\\n",
       "0       -  MUS$2010/PJ       -                  PJ                 %   \n",
       "1       1            0       1                   2              0.02   \n",
       "2       1            0       1                   2              0.02   \n",
       "\n",
       "  TotalCapacityLimit TechnicalLife UtilizationFactor ScalingSize efficiency  \\\n",
       "0                 PJ         Years                 -          PJ          %   \n",
       "1                 60            35               0.9  0.00000189         86   \n",
       "2                 60            25               0.4  0.00000189         86   \n",
       "\n",
       "  Availabiliy year InterestRate    Type  Fuel       EndUse    Agent2 Agent1  \n",
       "0                -            -       -     -            -  Retrofit    New  \n",
       "1                1          0.1  energy   gas  electricity         1      0  \n",
       "2                1          0.1  energy  wind  electricity         1      0  "
      ]
     },
     "execution_count": 4,
     "metadata": {},
     "output_type": "execute_result"
    }
   ],
   "source": [
    "power_technodata = pd.read_csv(\"/Users/alexanderkell/Documents/SGI/Projects/6-Platform-MockUp/Proposal/default/technodata/power/Technodata.csv\")\n",
    "power_technodata"
   ]
  },
  {
   "cell_type": "code",
   "execution_count": 5,
   "metadata": {},
   "outputs": [
    {
     "data": {
      "text/html": [
       "<div>\n",
       "<style scoped>\n",
       "    .dataframe tbody tr th:only-of-type {\n",
       "        vertical-align: middle;\n",
       "    }\n",
       "\n",
       "    .dataframe tbody tr th {\n",
       "        vertical-align: top;\n",
       "    }\n",
       "\n",
       "    .dataframe thead th {\n",
       "        text-align: right;\n",
       "    }\n",
       "</style>\n",
       "<table border=\"1\" class=\"dataframe\">\n",
       "  <thead>\n",
       "    <tr style=\"text-align: right;\">\n",
       "      <th></th>\n",
       "      <th>ProcessName</th>\n",
       "      <th>RegionName</th>\n",
       "      <th>Time</th>\n",
       "      <th>Level</th>\n",
       "      <th>cap_par</th>\n",
       "      <th>cap_exp</th>\n",
       "      <th>fix_par</th>\n",
       "      <th>fix_exp</th>\n",
       "      <th>var_par</th>\n",
       "      <th>var_exp</th>\n",
       "      <th>MaxCapacityAddition</th>\n",
       "      <th>MaxCapacityGrowth</th>\n",
       "      <th>TotalCapacityLimit</th>\n",
       "      <th>TechnicalLife</th>\n",
       "      <th>UtilizationFactor</th>\n",
       "      <th>ScalingSize</th>\n",
       "      <th>efficiency</th>\n",
       "      <th>Availabiliy year</th>\n",
       "      <th>InterestRate</th>\n",
       "      <th>Type</th>\n",
       "      <th>Fuel</th>\n",
       "      <th>EndUse</th>\n",
       "      <th>Agent2</th>\n",
       "      <th>Agent1</th>\n",
       "    </tr>\n",
       "  </thead>\n",
       "  <tbody>\n",
       "    <tr>\n",
       "      <th>0</th>\n",
       "      <td>Unit</td>\n",
       "      <td>-</td>\n",
       "      <td>Year</td>\n",
       "      <td>-</td>\n",
       "      <td>MUS$2010/PJ_a</td>\n",
       "      <td>-</td>\n",
       "      <td>MUS$2010/PJ</td>\n",
       "      <td>-</td>\n",
       "      <td>MUS$2010/PJ</td>\n",
       "      <td>-</td>\n",
       "      <td>PJ</td>\n",
       "      <td>%</td>\n",
       "      <td>PJ</td>\n",
       "      <td>Years</td>\n",
       "      <td>-</td>\n",
       "      <td>PJ</td>\n",
       "      <td>%</td>\n",
       "      <td>-</td>\n",
       "      <td>-</td>\n",
       "      <td>-</td>\n",
       "      <td>-</td>\n",
       "      <td>-</td>\n",
       "      <td>Retrofit</td>\n",
       "      <td>New</td>\n",
       "    </tr>\n",
       "    <tr>\n",
       "      <th>1</th>\n",
       "      <td>gassupply1</td>\n",
       "      <td>R1</td>\n",
       "      <td>2020</td>\n",
       "      <td>fixed</td>\n",
       "      <td>0</td>\n",
       "      <td>1</td>\n",
       "      <td>0</td>\n",
       "      <td>1</td>\n",
       "      <td>2.55</td>\n",
       "      <td>1</td>\n",
       "      <td>5</td>\n",
       "      <td>1</td>\n",
       "      <td>60</td>\n",
       "      <td>35</td>\n",
       "      <td>0.9</td>\n",
       "      <td>0.00000189</td>\n",
       "      <td>86</td>\n",
       "      <td>1</td>\n",
       "      <td>0.1</td>\n",
       "      <td>energy</td>\n",
       "      <td>gas</td>\n",
       "      <td>gas</td>\n",
       "      <td>1</td>\n",
       "      <td>0</td>\n",
       "    </tr>\n",
       "  </tbody>\n",
       "</table>\n",
       "</div>"
      ],
      "text/plain": [
       "  ProcessName RegionName  Time  Level        cap_par cap_exp      fix_par  \\\n",
       "0        Unit          -  Year      -  MUS$2010/PJ_a       -  MUS$2010/PJ   \n",
       "1  gassupply1         R1  2020  fixed              0       1            0   \n",
       "\n",
       "  fix_exp      var_par var_exp MaxCapacityAddition MaxCapacityGrowth  \\\n",
       "0       -  MUS$2010/PJ       -                  PJ                 %   \n",
       "1       1         2.55       1                   5                 1   \n",
       "\n",
       "  TotalCapacityLimit TechnicalLife UtilizationFactor ScalingSize efficiency  \\\n",
       "0                 PJ         Years                 -          PJ          %   \n",
       "1                 60            35               0.9  0.00000189         86   \n",
       "\n",
       "  Availabiliy year InterestRate    Type Fuel EndUse    Agent2 Agent1  \n",
       "0                -            -       -    -      -  Retrofit    New  \n",
       "1                1          0.1  energy  gas    gas         1      0  "
      ]
     },
     "execution_count": 5,
     "metadata": {},
     "output_type": "execute_result"
    }
   ],
   "source": [
    "gas_technodata = pd.read_csv(\"/Users/alexanderkell/Documents/SGI/Projects/6-Platform-MockUp/Proposal/default/technodata/gas/Technodata.csv\")\n",
    "gas_technodata"
   ]
  },
  {
   "cell_type": "code",
   "execution_count": 6,
   "metadata": {
    "scrolled": true
   },
   "outputs": [
    {
     "data": {
      "text/html": [
       "<div>\n",
       "<style scoped>\n",
       "    .dataframe tbody tr th:only-of-type {\n",
       "        vertical-align: middle;\n",
       "    }\n",
       "\n",
       "    .dataframe tbody tr th {\n",
       "        vertical-align: top;\n",
       "    }\n",
       "\n",
       "    .dataframe thead th {\n",
       "        text-align: right;\n",
       "    }\n",
       "</style>\n",
       "<table border=\"1\" class=\"dataframe\">\n",
       "  <thead>\n",
       "    <tr style=\"text-align: right;\">\n",
       "      <th></th>\n",
       "      <th>ProcessName</th>\n",
       "      <th>RegionName</th>\n",
       "      <th>Time</th>\n",
       "      <th>Level</th>\n",
       "      <th>cap_par</th>\n",
       "      <th>cap_exp</th>\n",
       "      <th>fix_par</th>\n",
       "      <th>fix_exp</th>\n",
       "      <th>var_par</th>\n",
       "      <th>var_exp</th>\n",
       "      <th>MaxCapacityAddition</th>\n",
       "      <th>MaxCapacityGrowth</th>\n",
       "      <th>TotalCapacityLimit</th>\n",
       "      <th>TechnicalLife</th>\n",
       "      <th>UtilizationFactor</th>\n",
       "      <th>ScalingSize</th>\n",
       "      <th>efficiency</th>\n",
       "      <th>Availabiliy year</th>\n",
       "      <th>InterestRate</th>\n",
       "      <th>Type</th>\n",
       "      <th>Fuel</th>\n",
       "      <th>EndUse</th>\n",
       "      <th>Agent2</th>\n",
       "      <th>Agent1</th>\n",
       "    </tr>\n",
       "  </thead>\n",
       "  <tbody>\n",
       "    <tr>\n",
       "      <th>0</th>\n",
       "      <td>Unit</td>\n",
       "      <td>-</td>\n",
       "      <td>Year</td>\n",
       "      <td>-</td>\n",
       "      <td>MUS$2010/PJ_a</td>\n",
       "      <td>-</td>\n",
       "      <td>MUS$2010/PJ</td>\n",
       "      <td>-</td>\n",
       "      <td>MUS$2010/PJ</td>\n",
       "      <td>-</td>\n",
       "      <td>PJ</td>\n",
       "      <td>%</td>\n",
       "      <td>PJ</td>\n",
       "      <td>Years</td>\n",
       "      <td>-</td>\n",
       "      <td>PJ</td>\n",
       "      <td>%</td>\n",
       "      <td>-</td>\n",
       "      <td>-</td>\n",
       "      <td>-</td>\n",
       "      <td>-</td>\n",
       "      <td>-</td>\n",
       "      <td>Retrofit</td>\n",
       "      <td>New</td>\n",
       "    </tr>\n",
       "    <tr>\n",
       "      <th>1</th>\n",
       "      <td>gasboiler</td>\n",
       "      <td>R1</td>\n",
       "      <td>2020</td>\n",
       "      <td>fixed</td>\n",
       "      <td>3.8</td>\n",
       "      <td>1</td>\n",
       "      <td>0</td>\n",
       "      <td>1</td>\n",
       "      <td>0</td>\n",
       "      <td>1</td>\n",
       "      <td>10</td>\n",
       "      <td>0.02</td>\n",
       "      <td>60</td>\n",
       "      <td>10</td>\n",
       "      <td>1</td>\n",
       "      <td>0.00000189</td>\n",
       "      <td>86</td>\n",
       "      <td>1</td>\n",
       "      <td>0.1</td>\n",
       "      <td>energy</td>\n",
       "      <td>gas</td>\n",
       "      <td>heat</td>\n",
       "      <td>1</td>\n",
       "      <td>0</td>\n",
       "    </tr>\n",
       "    <tr>\n",
       "      <th>2</th>\n",
       "      <td>heatpump</td>\n",
       "      <td>R1</td>\n",
       "      <td>2020</td>\n",
       "      <td>fixed</td>\n",
       "      <td>8.866667</td>\n",
       "      <td>1</td>\n",
       "      <td>0</td>\n",
       "      <td>1</td>\n",
       "      <td>0</td>\n",
       "      <td>1</td>\n",
       "      <td>10</td>\n",
       "      <td>0.02</td>\n",
       "      <td>60</td>\n",
       "      <td>10</td>\n",
       "      <td>1</td>\n",
       "      <td>0.00000189</td>\n",
       "      <td>86</td>\n",
       "      <td>1</td>\n",
       "      <td>0.1</td>\n",
       "      <td>energy</td>\n",
       "      <td>electricity</td>\n",
       "      <td>heat</td>\n",
       "      <td>1</td>\n",
       "      <td>0</td>\n",
       "    </tr>\n",
       "  </tbody>\n",
       "</table>\n",
       "</div>"
      ],
      "text/plain": [
       "  ProcessName RegionName  Time  Level        cap_par cap_exp      fix_par  \\\n",
       "0        Unit          -  Year      -  MUS$2010/PJ_a       -  MUS$2010/PJ   \n",
       "1   gasboiler         R1  2020  fixed            3.8       1            0   \n",
       "2    heatpump         R1  2020  fixed       8.866667       1            0   \n",
       "\n",
       "  fix_exp      var_par var_exp MaxCapacityAddition MaxCapacityGrowth  \\\n",
       "0       -  MUS$2010/PJ       -                  PJ                 %   \n",
       "1       1            0       1                  10              0.02   \n",
       "2       1            0       1                  10              0.02   \n",
       "\n",
       "  TotalCapacityLimit TechnicalLife UtilizationFactor ScalingSize efficiency  \\\n",
       "0                 PJ         Years                 -          PJ          %   \n",
       "1                 60            10                 1  0.00000189         86   \n",
       "2                 60            10                 1  0.00000189         86   \n",
       "\n",
       "  Availabiliy year InterestRate    Type         Fuel EndUse    Agent2 Agent1  \n",
       "0                -            -       -            -      -  Retrofit    New  \n",
       "1                1          0.1  energy          gas   heat         1      0  \n",
       "2                1          0.1  energy  electricity   heat         1      0  "
      ]
     },
     "execution_count": 6,
     "metadata": {},
     "output_type": "execute_result"
    }
   ],
   "source": [
    "residential_technodata = pd.read_csv(\"/Users/alexanderkell/Documents/SGI/Projects/6-Platform-MockUp/Proposal/default/technodata/residential/Technodata.csv\")\n",
    "residential_technodata"
   ]
  },
  {
   "cell_type": "markdown",
   "metadata": {},
   "source": [
    "## Agent file\n",
    "\n",
    "The user should be able to change the following column in this agent file. \n",
    "- Objective1 \n",
    "\n",
    "The inputs to this would ideally just be a dropdown menu, with the following options:\n",
    "- \"comfort\"\n",
    "- \"efficiency\"\n",
    "- \"fixed_costs\"\n",
    "- \"capital_costs\"\n",
    "- \"emission_cost\"\n",
    "- \"fuel_consumption_cost\"\n",
    "- \"lifetime_levelized_cost_of_energy\"\n",
    "- \"net_present_value\"\n",
    "- \"equivalent_annual_cost\"\n",
    "\n"
   ]
  },
  {
   "cell_type": "code",
   "execution_count": 7,
   "metadata": {},
   "outputs": [
    {
     "data": {
      "text/html": [
       "<div>\n",
       "<style scoped>\n",
       "    .dataframe tbody tr th:only-of-type {\n",
       "        vertical-align: middle;\n",
       "    }\n",
       "\n",
       "    .dataframe tbody tr th {\n",
       "        vertical-align: top;\n",
       "    }\n",
       "\n",
       "    .dataframe thead th {\n",
       "        text-align: right;\n",
       "    }\n",
       "</style>\n",
       "<table border=\"1\" class=\"dataframe\">\n",
       "  <thead>\n",
       "    <tr style=\"text-align: right;\">\n",
       "      <th></th>\n",
       "      <th>AgentShare</th>\n",
       "      <th>Name</th>\n",
       "      <th>AgentNumber</th>\n",
       "      <th>RegionName</th>\n",
       "      <th>Objective1</th>\n",
       "      <th>Objective2</th>\n",
       "      <th>Objective3</th>\n",
       "      <th>ObjData1</th>\n",
       "      <th>ObjData2</th>\n",
       "      <th>ObjData3</th>\n",
       "      <th>Objsort1</th>\n",
       "      <th>Objsort2</th>\n",
       "      <th>Objsort3</th>\n",
       "      <th>SearchRule</th>\n",
       "      <th>DecisionMethod</th>\n",
       "      <th>Quantity</th>\n",
       "      <th>MaturityThreshold</th>\n",
       "      <th>Budget</th>\n",
       "      <th>Type</th>\n",
       "    </tr>\n",
       "  </thead>\n",
       "  <tbody>\n",
       "    <tr>\n",
       "      <th>0</th>\n",
       "      <td>Agent1</td>\n",
       "      <td>A1</td>\n",
       "      <td>1</td>\n",
       "      <td>R1</td>\n",
       "      <td>LCOE</td>\n",
       "      <td>NaN</td>\n",
       "      <td>NaN</td>\n",
       "      <td>1</td>\n",
       "      <td>NaN</td>\n",
       "      <td>NaN</td>\n",
       "      <td>False</td>\n",
       "      <td>NaN</td>\n",
       "      <td>NaN</td>\n",
       "      <td>all</td>\n",
       "      <td>singleObj</td>\n",
       "      <td>1</td>\n",
       "      <td>-1</td>\n",
       "      <td>inf</td>\n",
       "      <td>New</td>\n",
       "    </tr>\n",
       "    <tr>\n",
       "      <th>1</th>\n",
       "      <td>Agent2</td>\n",
       "      <td>A1</td>\n",
       "      <td>2</td>\n",
       "      <td>R1</td>\n",
       "      <td>LCOE</td>\n",
       "      <td>NaN</td>\n",
       "      <td>NaN</td>\n",
       "      <td>1</td>\n",
       "      <td>NaN</td>\n",
       "      <td>NaN</td>\n",
       "      <td>False</td>\n",
       "      <td>NaN</td>\n",
       "      <td>NaN</td>\n",
       "      <td>all</td>\n",
       "      <td>singleObj</td>\n",
       "      <td>1</td>\n",
       "      <td>-1</td>\n",
       "      <td>inf</td>\n",
       "      <td>Retrofit</td>\n",
       "    </tr>\n",
       "  </tbody>\n",
       "</table>\n",
       "</div>"
      ],
      "text/plain": [
       "  AgentShare Name  AgentNumber RegionName Objective1  Objective2  Objective3  \\\n",
       "0     Agent1   A1            1         R1       LCOE         NaN         NaN   \n",
       "1     Agent2   A1            2         R1       LCOE         NaN         NaN   \n",
       "\n",
       "   ObjData1  ObjData2  ObjData3  Objsort1  Objsort2  Objsort3 SearchRule  \\\n",
       "0         1       NaN       NaN     False       NaN       NaN        all   \n",
       "1         1       NaN       NaN     False       NaN       NaN        all   \n",
       "\n",
       "  DecisionMethod  Quantity  MaturityThreshold  Budget      Type  \n",
       "0      singleObj         1                 -1     inf       New  \n",
       "1      singleObj         1                 -1     inf  Retrofit  "
      ]
     },
     "execution_count": 7,
     "metadata": {},
     "output_type": "execute_result"
    }
   ],
   "source": [
    "agents = pd.read_csv(\"/Users/alexanderkell/Documents/SGI/Projects/6-Platform-MockUp/Proposal/default/technodata/Agents.csv\")\n",
    "agents"
   ]
  },
  {
   "cell_type": "markdown",
   "metadata": {},
   "source": [
    "## Running MUSE"
   ]
  },
  {
   "cell_type": "code",
   "execution_count": 8,
   "metadata": {
    "scrolled": false
   },
   "outputs": [
    {
     "name": "stdout",
     "output_type": "stream",
     "text": [
      "Primal Feasibility  Dual Feasibility    Duality Gap         Step             Path Parameter      Objective          \n",
      "1.0                 1.0                 1.0                 -                1.0                 148.9679256735      \n",
      "0.2598249156018     0.2598249156018     0.2598249156018     0.7495200004432  0.2598249156018     120.5733849622      \n",
      "0.02399956829696    0.02399956829696    0.02399956829696    0.9210391224498  0.02399956829696    4.780663765494      \n",
      "0.0181364461758     0.0181364461758     0.0181364461758     0.2509588065043  0.0181364461758     7.107141691547      \n",
      "0.01499350833129    0.01499350833129    0.01499350833129    0.1921973185438  0.01499350833129    70.77614035582      \n",
      "0.004968295711366   0.004968295711365   0.004968295711366   0.6857131120066  0.004968295711366   164.7472224003      \n",
      "0.0006443120819636  0.0006443120819592  0.0006443120819593  0.8804718592557  0.000644312081976   289.7109372795      \n",
      "2.42743136597e-06   2.427431365971e-06  2.427431365963e-06  0.9976309182164  2.427431365877e-06  310.7437190082      \n",
      "1.214286449729e-10  1.214286519067e-10  1.214286632153e-10  0.9999499778454  1.214286415338e-10  310.7859704917      \n",
      "Optimization terminated successfully.\n",
      "         Current function value: 310.785970  \n",
      "         Iterations: 8\n",
      "Primal Feasibility  Dual Feasibility    Duality Gap         Step             Path Parameter      Objective          \n",
      "1.0                 1.0                 1.0                 -                1.0                 148.9679256735      \n",
      "0.1806451257467     0.1806451257467     0.1806451257467     0.8281847212959  0.1806451257467     169.6037982942      \n",
      "0.02684129624378    0.02684129624378    0.02684129624378    0.8635116331789  0.02684129624378    123.2904723181      \n",
      "0.01081107082373    0.01081107082373    0.01081107082373    0.6279145428497  0.01081107082373    293.3552576002      \n",
      "0.001503353337691   0.001503353337654   0.001503353337654   0.8785435425125  0.001503353337717   618.5754737877      \n",
      "4.126548294367e-06  4.126548294239e-06  4.126548294227e-06  0.9972993975797  4.126548294171e-06  673.2429034259      \n",
      "2.063820322124e-10  2.063819003455e-10  2.063819157827e-10  0.9999499868224  2.063821117376e-10  673.369600975       \n",
      "Optimization terminated successfully.\n",
      "         Current function value: 673.369601  \n",
      "         Iterations: 6\n"
     ]
    },
    {
     "name": "stderr",
     "output_type": "stream",
     "text": [
      "/Users/alexanderkell/anaconda3/envs/muse/lib/python3.7/site-packages/xarray/core/alignment.py:298: FutureWarning: Index.__or__ operating as a set operation is deprecated, in the future this will be a logical operation matching Series.__or__.  Use index.union(other) instead\n",
      "  index = joiner(matching_indexes)\n",
      "/Users/alexanderkell/anaconda3/envs/muse/lib/python3.7/site-packages/xarray/core/alignment.py:298: FutureWarning: Index.__or__ operating as a set operation is deprecated, in the future this will be a logical operation matching Series.__or__.  Use index.union(other) instead\n",
      "  index = joiner(matching_indexes)\n"
     ]
    },
    {
     "name": "stdout",
     "output_type": "stream",
     "text": [
      "Primal Feasibility  Dual Feasibility    Duality Gap         Step             Path Parameter      Objective          \n",
      "1.0                 1.0                 1.0                 -                1.0                 225.7506433631      \n",
      "0.07675788061753    0.07675788061753    0.07675788061752    0.9271368109475  0.07675788061753    1.307751786207      \n",
      "0.01889464099889    0.01889464099889    0.01889464099888    0.7970949255449  0.01889464099889    19.4989221165       \n",
      "0.007543783963383   0.007543783963389   0.007543783963387   0.6153162486388  0.007543783963389   16.52048983639      \n",
      "0.002504946781011   0.002504946781018   0.002504946781018   0.7004074675407  0.002504946781019   72.319459457        \n",
      "0.0004445444355372  0.0004445444355386  0.0004445444355385  0.8689995047748  0.0004445444355386  423.758860583       \n",
      "1.214501095316e-05  1.214501095325e-05  1.214501095325e-05  0.9820606335229  1.214501095321e-05  675.1646942954      \n",
      "1.07043983176e-09   1.070439818423e-09  1.070439809759e-09  0.999912077266   1.070439801384e-09  681.9179209593      \n",
      "5.352300883556e-14  5.353210655012e-14  5.352557296064e-14  0.9999499896049  5.35222326787e-14   681.9185224492      \n",
      "Optimization terminated successfully.\n",
      "         Current function value: 681.918522  \n",
      "         Iterations: 8\n"
     ]
    },
    {
     "name": "stderr",
     "output_type": "stream",
     "text": [
      "/Users/alexanderkell/anaconda3/envs/muse/lib/python3.7/site-packages/xarray/core/alignment.py:298: FutureWarning: Index.__or__ operating as a set operation is deprecated, in the future this will be a logical operation matching Series.__or__.  Use index.union(other) instead\n",
      "  index = joiner(matching_indexes)\n",
      "/Users/alexanderkell/anaconda3/envs/muse/lib/python3.7/site-packages/xarray/core/alignment.py:298: FutureWarning: Index.__or__ operating as a set operation is deprecated, in the future this will be a logical operation matching Series.__or__.  Use index.union(other) instead\n",
      "  index = joiner(matching_indexes)\n",
      "-- 2021-02-12 17:27:56 - muse.mca - WARNING\n",
      "Check growth constraints for wind.\n",
      "\n",
      "/Users/alexanderkell/anaconda3/envs/muse/lib/python3.7/site-packages/xarray/core/alignment.py:298: FutureWarning: Index.__or__ operating as a set operation is deprecated, in the future this will be a logical operation matching Series.__or__.  Use index.union(other) instead\n",
      "  index = joiner(matching_indexes)\n",
      "/Users/alexanderkell/anaconda3/envs/muse/lib/python3.7/site-packages/xarray/core/alignment.py:298: FutureWarning: Index.__or__ operating as a set operation is deprecated, in the future this will be a logical operation matching Series.__or__.  Use index.union(other) instead\n",
      "  index = joiner(matching_indexes)\n"
     ]
    },
    {
     "name": "stdout",
     "output_type": "stream",
     "text": [
      "Primal Feasibility  Dual Feasibility    Duality Gap         Step             Path Parameter      Objective          \n",
      "1.0                 1.0                 1.0                 -                1.0                 359.2443189825      \n",
      "0.2131118149695     0.2131118149695     0.2131118149695     0.7960343319409  0.2131118149695     262.2885392799      \n",
      "0.05758094728721    0.05758094728721    0.05758094728721    0.7523513573812  0.05758094728721    13.16175379889      \n",
      "0.01048349585899    0.01048349585899    0.01048349585899    0.8203940076989  0.01048349585899    9.036399448717      \n",
      "0.009005598049605   0.009005598049605   0.009005598049605   0.1488155054953  0.009005598049605   19.4029637084       \n",
      "0.002317604003517   0.002317604003517   0.002317604003518   0.809867357198   0.002317604003518   226.5492459764      \n",
      "0.0009784310820985  0.0009784310820986  0.0009784310820987  0.5991550275435  0.0009784310821     289.4684048776      \n",
      "0.0001326875071989  0.0001326875071989  0.0001326875071989  0.8836343167338  0.0001326875071991  358.6919881748      \n",
      "6.688262821112e-08  6.688262821215e-08  6.688262820925e-08  0.9995454959392  6.688262821791e-08  365.8223849509      \n",
      "3.344166515087e-12  3.344171523805e-12  3.344169608161e-12  0.9999499994062  3.344160340983e-12  365.8250744356      \n",
      "Optimization terminated successfully.\n",
      "         Current function value: 365.825074  \n",
      "         Iterations: 9\n",
      "Primal Feasibility  Dual Feasibility    Duality Gap         Step             Path Parameter      Objective          \n",
      "1.0                 1.0                 1.0                 -                1.0                 179.6221594912      \n",
      "0.06792119055695    0.06792119055695    0.06792119055695    0.9362017234058  0.06792119055695    76.26287556551      \n",
      "0.009746786382626   0.009746786382626   0.009746786382626   0.8719786940257  0.009746786382626   34.28929487799      \n",
      "0.00504956460969    0.005049564609689   0.005049564609689   0.5134005827998  0.005049564609689   115.6145513358      \n",
      "0.003132107070667   0.003132107070671   0.003132107070671   0.392211671966   0.003132107070669   175.0444435634      \n",
      "0.0005331490663261  0.0005331490663255  0.0005331490663255  0.86314782381    0.0005331490663232  430.7265923666      \n",
      "6.809758501335e-06  6.809758501206e-06  6.809758501211e-06  0.9896962642246  6.809758501236e-06  482.9615875673      \n",
      "3.566453938094e-10  3.566453945716e-10  3.566453932841e-10  0.9999476448422  3.566453742863e-10  483.6636767201      \n",
      "Optimization terminated successfully.\n",
      "         Current function value: 483.663677  \n",
      "         Iterations: 7\n"
     ]
    },
    {
     "name": "stderr",
     "output_type": "stream",
     "text": [
      "/Users/alexanderkell/anaconda3/envs/muse/lib/python3.7/site-packages/xarray/core/alignment.py:298: FutureWarning: Index.__or__ operating as a set operation is deprecated, in the future this will be a logical operation matching Series.__or__.  Use index.union(other) instead\n",
      "  index = joiner(matching_indexes)\n",
      "/Users/alexanderkell/anaconda3/envs/muse/lib/python3.7/site-packages/xarray/core/alignment.py:298: FutureWarning: Index.__or__ operating as a set operation is deprecated, in the future this will be a logical operation matching Series.__or__.  Use index.union(other) instead\n",
      "  index = joiner(matching_indexes)\n",
      "/Users/alexanderkell/anaconda3/envs/muse/lib/python3.7/site-packages/xarray/core/alignment.py:298: FutureWarning: Index.__or__ operating as a set operation is deprecated, in the future this will be a logical operation matching Series.__or__.  Use index.union(other) instead\n",
      "  index = joiner(matching_indexes)\n",
      "/Users/alexanderkell/anaconda3/envs/muse/lib/python3.7/site-packages/xarray/core/alignment.py:298: FutureWarning: Index.__or__ operating as a set operation is deprecated, in the future this will be a logical operation matching Series.__or__.  Use index.union(other) instead\n",
      "  index = joiner(matching_indexes)\n"
     ]
    },
    {
     "name": "stdout",
     "output_type": "stream",
     "text": [
      "Primal Feasibility  Dual Feasibility    Duality Gap         Step             Path Parameter      Objective          \n",
      "1.0                 1.0                 1.0                 -                1.0                 547.5170704708      \n",
      "0.06099397574481    0.06099397574481    0.06099397574481    0.944387525785   0.06099397574482    192.4316112655      \n",
      "0.01386491315736    0.01386491315736    0.01386491315736    0.7896145976148  0.01386491315736    3.15775420382       \n",
      "0.00713143943229    0.00713143943229    0.00713143943229    0.5116778496496  0.00713143943229    6.913227303074      \n",
      "0.00078544929636    0.0007854492963601  0.00078544929636    0.9057153968576  0.0007854492963601  6.59130442523       \n",
      "0.0003968642772998  0.0003968642772994  0.0003968642772993  0.5195625901747  0.0003968642772994  5.218772647066      \n",
      "5.276614006617e-06  5.276614006596e-06  5.2766140066e-06    0.9941140946864  5.276614006605e-06  5.27261433878       \n",
      "3.679901170496e-10  3.679892785617e-10  3.679893022572e-10  0.9999303117955  3.679893290229e-10  5.266601980833      \n",
      "1.812202251272e-14  1.839736331488e-14  1.839937519974e-14  0.999949999861   1.839962178044e-14  5.266601636509      \n",
      "Optimization terminated successfully.\n",
      "         Current function value: 5.266602    \n",
      "         Iterations: 8\n",
      "Primal Feasibility  Dual Feasibility    Duality Gap         Step             Path Parameter      Objective          \n",
      "1.0                 1.0                 1.0                 -                1.0                 273.7585352354      \n",
      "0.06117571447458    0.06117571447458    0.06117571447455    0.9425787965419  0.06117571447458    204.7212184456      \n",
      "0.009942269802027   0.009942269802027   0.009942269802022   0.8403658088805  0.009942269802026   0.7760264390675     \n",
      "0.002147318631478   0.002147318631478   0.002147318631477   0.8277733790617  0.002147318631478   3.89470513843       \n",
      "0.0009649606635232  0.0009649606635229  0.0009649606635225  0.5635818341147  0.0009649606635229  2.700821086693      \n",
      "0.0002350111516203  0.0002350111516202  0.0002350111516201  0.7866567764877  0.0002350111516202  14.62347819316      \n",
      "5.857294640776e-05  5.857294640773e-05  5.857294640771e-05  0.8105927228257  5.857294640774e-05  123.50656776        \n",
      "1.165473006408e-06  1.165473006411e-06  1.16547300641e-06   0.9835504451632  1.165473006408e-06  151.6654340598      \n",
      "8.362815772282e-11  8.362815827514e-11  8.362815759358e-11  0.9999285085277  8.362816080484e-11  152.3843167925      \n",
      "4.17730975775e-15   4.176758700019e-15  4.17770310275e-15   0.9999500415235  4.181409430731e-15  152.3843678125      \n",
      "Optimization terminated successfully.\n",
      "         Current function value: 152.384368  \n",
      "         Iterations: 9\n"
     ]
    },
    {
     "name": "stderr",
     "output_type": "stream",
     "text": [
      "/Users/alexanderkell/anaconda3/envs/muse/lib/python3.7/site-packages/xarray/core/alignment.py:298: FutureWarning: Index.__or__ operating as a set operation is deprecated, in the future this will be a logical operation matching Series.__or__.  Use index.union(other) instead\n",
      "  index = joiner(matching_indexes)\n",
      "/Users/alexanderkell/anaconda3/envs/muse/lib/python3.7/site-packages/xarray/core/alignment.py:298: FutureWarning: Index.__or__ operating as a set operation is deprecated, in the future this will be a logical operation matching Series.__or__.  Use index.union(other) instead\n",
      "  index = joiner(matching_indexes)\n",
      "/Users/alexanderkell/anaconda3/envs/muse/lib/python3.7/site-packages/xarray/core/alignment.py:298: FutureWarning: Index.__or__ operating as a set operation is deprecated, in the future this will be a logical operation matching Series.__or__.  Use index.union(other) instead\n",
      "  index = joiner(matching_indexes)\n",
      "/Users/alexanderkell/anaconda3/envs/muse/lib/python3.7/site-packages/xarray/core/alignment.py:298: FutureWarning: Index.__or__ operating as a set operation is deprecated, in the future this will be a logical operation matching Series.__or__.  Use index.union(other) instead\n",
      "  index = joiner(matching_indexes)\n"
     ]
    },
    {
     "name": "stdout",
     "output_type": "stream",
     "text": [
      "Primal Feasibility  Dual Feasibility    Duality Gap         Step             Path Parameter      Objective          \n",
      "1.0                 1.0                 1.0                 -                1.0                 24.59260538017      \n",
      "0.01918847234907    0.01918847234907    0.01918847234907    0.9908439847925  0.01918847234907    0.01449776485457    \n",
      "0.01221126742797    0.01221126742797    0.01221126742797    0.3735738645022  0.01221126742797    0.1603023022985     \n",
      "0.009831906616686   0.009831906616686   0.009831906616687   0.2161492677935  0.009831906616686   20.38072882765      \n",
      "0.001212407727258   0.001212407727023   0.001212407727023   0.8886055956883  0.001212407727023   51.4023280587       \n",
      "4.730913156437e-06  4.730913154976e-06  4.730913154975e-06  0.9976178802841  4.730913155079e-06  59.83474944669      \n",
      "2.366017038135e-10  2.366017096583e-10  2.366017052966e-10  0.9999499881536  2.366016905481e-10  59.84200873085      \n",
      "Optimization terminated successfully.\n",
      "         Current function value: 59.842009   \n",
      "         Iterations: 6\n"
     ]
    },
    {
     "name": "stderr",
     "output_type": "stream",
     "text": [
      "/Users/alexanderkell/anaconda3/envs/muse/lib/python3.7/site-packages/xarray/core/alignment.py:298: FutureWarning: Index.__or__ operating as a set operation is deprecated, in the future this will be a logical operation matching Series.__or__.  Use index.union(other) instead\n",
      "  index = joiner(matching_indexes)\n",
      "/Users/alexanderkell/anaconda3/envs/muse/lib/python3.7/site-packages/xarray/core/alignment.py:298: FutureWarning: Index.__or__ operating as a set operation is deprecated, in the future this will be a logical operation matching Series.__or__.  Use index.union(other) instead\n",
      "  index = joiner(matching_indexes)\n",
      "-- 2021-02-12 17:28:00 - muse.mca - WARNING\n",
      "Check growth constraints for wind.\n",
      "\n",
      "/Users/alexanderkell/anaconda3/envs/muse/lib/python3.7/site-packages/xarray/core/alignment.py:298: FutureWarning: Index.__or__ operating as a set operation is deprecated, in the future this will be a logical operation matching Series.__or__.  Use index.union(other) instead\n",
      "  index = joiner(matching_indexes)\n",
      "/Users/alexanderkell/anaconda3/envs/muse/lib/python3.7/site-packages/xarray/core/alignment.py:298: FutureWarning: Index.__or__ operating as a set operation is deprecated, in the future this will be a logical operation matching Series.__or__.  Use index.union(other) instead\n",
      "  index = joiner(matching_indexes)\n"
     ]
    },
    {
     "name": "stdout",
     "output_type": "stream",
     "text": [
      "Primal Feasibility  Dual Feasibility    Duality Gap         Step             Path Parameter      Objective          \n",
      "1.0                 1.0                 1.0                 -                1.0                 359.2443189825      \n",
      "0.2131118149695     0.2131118149695     0.2131118149695     0.7960343319409  0.2131118149695     262.2885392799      \n",
      "0.05758094728721    0.05758094728721    0.05758094728721    0.7523513573812  0.05758094728721    13.16175379889      \n",
      "0.01048349585899    0.01048349585899    0.01048349585899    0.8203940076989  0.01048349585899    9.036399448717      \n",
      "0.009005598049605   0.009005598049605   0.009005598049605   0.1488155054953  0.009005598049605   19.4029637084       \n",
      "0.002317604003517   0.002317604003517   0.002317604003518   0.809867357198   0.002317604003518   226.5492459764      \n",
      "0.0009784310820985  0.0009784310820986  0.0009784310820987  0.5991550275435  0.0009784310821     289.4684048776      \n",
      "0.0001326875071989  0.0001326875071989  0.0001326875071989  0.8836343167338  0.0001326875071991  358.6919881748      \n",
      "6.688262821112e-08  6.688262821215e-08  6.688262820925e-08  0.9995454959392  6.688262821791e-08  365.8223849509      \n",
      "3.344166515087e-12  3.344171523805e-12  3.344169608161e-12  0.9999499994062  3.344160340983e-12  365.8250744356      \n",
      "Optimization terminated successfully.\n",
      "         Current function value: 365.825074  \n",
      "         Iterations: 9\n",
      "Primal Feasibility  Dual Feasibility    Duality Gap         Step             Path Parameter      Objective          \n",
      "1.0                 1.0                 1.0                 -                1.0                 179.6221594912      \n",
      "0.06792119055695    0.06792119055695    0.06792119055695    0.9362017234058  0.06792119055695    76.26287556551      \n",
      "0.009746786382626   0.009746786382626   0.009746786382626   0.8719786940257  0.009746786382626   34.28929487799      \n",
      "0.00504956460969    0.005049564609689   0.005049564609689   0.5134005827998  0.005049564609689   115.6145513358      \n",
      "0.003132107070667   0.003132107070671   0.003132107070671   0.392211671966   0.003132107070669   175.0444435634      \n",
      "0.0005331490663261  0.0005331490663255  0.0005331490663255  0.86314782381    0.0005331490663232  430.7265923666      \n",
      "6.809758501335e-06  6.809758501206e-06  6.809758501211e-06  0.9896962642246  6.809758501236e-06  482.9615875673      \n",
      "3.566453938094e-10  3.566453945716e-10  3.566453932841e-10  0.9999476448422  3.566453742863e-10  483.6636767201      \n",
      "Optimization terminated successfully.\n",
      "         Current function value: 483.663677  \n",
      "         Iterations: 7\n"
     ]
    },
    {
     "name": "stderr",
     "output_type": "stream",
     "text": [
      "/Users/alexanderkell/anaconda3/envs/muse/lib/python3.7/site-packages/xarray/core/alignment.py:298: FutureWarning: Index.__or__ operating as a set operation is deprecated, in the future this will be a logical operation matching Series.__or__.  Use index.union(other) instead\n",
      "  index = joiner(matching_indexes)\n",
      "/Users/alexanderkell/anaconda3/envs/muse/lib/python3.7/site-packages/xarray/core/alignment.py:298: FutureWarning: Index.__or__ operating as a set operation is deprecated, in the future this will be a logical operation matching Series.__or__.  Use index.union(other) instead\n",
      "  index = joiner(matching_indexes)\n",
      "/Users/alexanderkell/anaconda3/envs/muse/lib/python3.7/site-packages/xarray/core/alignment.py:298: FutureWarning: Index.__or__ operating as a set operation is deprecated, in the future this will be a logical operation matching Series.__or__.  Use index.union(other) instead\n",
      "  index = joiner(matching_indexes)\n",
      "/Users/alexanderkell/anaconda3/envs/muse/lib/python3.7/site-packages/xarray/core/alignment.py:298: FutureWarning: Index.__or__ operating as a set operation is deprecated, in the future this will be a logical operation matching Series.__or__.  Use index.union(other) instead\n",
      "  index = joiner(matching_indexes)\n"
     ]
    },
    {
     "name": "stdout",
     "output_type": "stream",
     "text": [
      "Primal Feasibility  Dual Feasibility    Duality Gap         Step             Path Parameter      Objective          \n",
      "1.0                 1.0                 1.0                 -                1.0                 547.5170704708      \n",
      "0.06099397574481    0.06099397574481    0.06099397574481    0.944387525785   0.06099397574482    192.4316112655      \n",
      "0.01386491315736    0.01386491315736    0.01386491315736    0.7896145976148  0.01386491315736    3.15775420382       \n",
      "0.00713143943229    0.00713143943229    0.00713143943229    0.5116778496496  0.00713143943229    6.913227303074      \n",
      "0.00078544929636    0.0007854492963601  0.00078544929636    0.9057153968576  0.0007854492963601  6.59130442523       \n",
      "0.0003968642772998  0.0003968642772994  0.0003968642772993  0.5195625901747  0.0003968642772994  5.218772647066      \n",
      "5.276614006617e-06  5.276614006596e-06  5.2766140066e-06    0.9941140946864  5.276614006605e-06  5.27261433878       \n",
      "3.679901170496e-10  3.679892785617e-10  3.679893022572e-10  0.9999303117955  3.679893290229e-10  5.266601980833      \n",
      "1.812202251272e-14  1.839736331488e-14  1.839937519974e-14  0.999949999861   1.839962178044e-14  5.266601636509      \n",
      "Optimization terminated successfully.\n",
      "         Current function value: 5.266602    \n",
      "         Iterations: 8\n",
      "Primal Feasibility  Dual Feasibility    Duality Gap         Step             Path Parameter      Objective          \n",
      "1.0                 1.0                 1.0                 -                1.0                 273.7585352354      \n",
      "0.06117571447458    0.06117571447458    0.06117571447455    0.9425787965419  0.06117571447458    204.7212184456      \n",
      "0.009942269802027   0.009942269802027   0.009942269802022   0.8403658088805  0.009942269802026   0.7760264390675     \n",
      "0.002147318631478   0.002147318631478   0.002147318631477   0.8277733790617  0.002147318631478   3.89470513843       \n",
      "0.0009649606635232  0.0009649606635229  0.0009649606635225  0.5635818341147  0.0009649606635229  2.700821086693      \n",
      "0.0002350111516203  0.0002350111516202  0.0002350111516201  0.7866567764877  0.0002350111516202  14.62347819316      \n",
      "5.857294640776e-05  5.857294640773e-05  5.857294640771e-05  0.8105927228257  5.857294640774e-05  123.50656776        \n",
      "1.165473006408e-06  1.165473006411e-06  1.16547300641e-06   0.9835504451632  1.165473006408e-06  151.6654340598      \n",
      "8.362815772282e-11  8.362815827514e-11  8.362815759358e-11  0.9999285085277  8.362816080484e-11  152.3843167925      \n",
      "4.17730975775e-15   4.176758700019e-15  4.17770310275e-15   0.9999500415235  4.181409430731e-15  152.3843678125      \n",
      "Optimization terminated successfully.\n",
      "         Current function value: 152.384368  \n",
      "         Iterations: 9\n"
     ]
    },
    {
     "name": "stderr",
     "output_type": "stream",
     "text": [
      "/Users/alexanderkell/anaconda3/envs/muse/lib/python3.7/site-packages/xarray/core/alignment.py:298: FutureWarning: Index.__or__ operating as a set operation is deprecated, in the future this will be a logical operation matching Series.__or__.  Use index.union(other) instead\n",
      "  index = joiner(matching_indexes)\n",
      "/Users/alexanderkell/anaconda3/envs/muse/lib/python3.7/site-packages/xarray/core/alignment.py:298: FutureWarning: Index.__or__ operating as a set operation is deprecated, in the future this will be a logical operation matching Series.__or__.  Use index.union(other) instead\n",
      "  index = joiner(matching_indexes)\n",
      "/Users/alexanderkell/anaconda3/envs/muse/lib/python3.7/site-packages/xarray/core/alignment.py:298: FutureWarning: Index.__or__ operating as a set operation is deprecated, in the future this will be a logical operation matching Series.__or__.  Use index.union(other) instead\n",
      "  index = joiner(matching_indexes)\n",
      "/Users/alexanderkell/anaconda3/envs/muse/lib/python3.7/site-packages/xarray/core/alignment.py:298: FutureWarning: Index.__or__ operating as a set operation is deprecated, in the future this will be a logical operation matching Series.__or__.  Use index.union(other) instead\n",
      "  index = joiner(matching_indexes)\n"
     ]
    },
    {
     "name": "stdout",
     "output_type": "stream",
     "text": [
      "Primal Feasibility  Dual Feasibility    Duality Gap         Step             Path Parameter      Objective          \n",
      "1.0                 1.0                 1.0                 -                1.0                 24.59260538017      \n",
      "0.01918847234907    0.01918847234907    0.01918847234907    0.9908439847925  0.01918847234907    0.01449776485457    \n",
      "0.01221126742797    0.01221126742797    0.01221126742797    0.3735738645022  0.01221126742797    0.1603023022985     \n",
      "0.009831906616686   0.009831906616686   0.009831906616687   0.2161492677935  0.009831906616686   20.38072882765      \n",
      "0.001212407727258   0.001212407727023   0.001212407727023   0.8886055956883  0.001212407727023   51.4023280587       \n",
      "4.730913156437e-06  4.730913154976e-06  4.730913154975e-06  0.9976178802841  4.730913155079e-06  59.83474944669      \n",
      "2.366017038135e-10  2.366017096583e-10  2.366017052966e-10  0.9999499881536  2.366016905481e-10  59.84200873085      \n",
      "Optimization terminated successfully.\n",
      "         Current function value: 59.842009   \n",
      "         Iterations: 6\n"
     ]
    },
    {
     "name": "stderr",
     "output_type": "stream",
     "text": [
      "/Users/alexanderkell/anaconda3/envs/muse/lib/python3.7/site-packages/xarray/core/alignment.py:298: FutureWarning: Index.__or__ operating as a set operation is deprecated, in the future this will be a logical operation matching Series.__or__.  Use index.union(other) instead\n",
      "  index = joiner(matching_indexes)\n",
      "/Users/alexanderkell/anaconda3/envs/muse/lib/python3.7/site-packages/xarray/core/alignment.py:298: FutureWarning: Index.__or__ operating as a set operation is deprecated, in the future this will be a logical operation matching Series.__or__.  Use index.union(other) instead\n",
      "  index = joiner(matching_indexes)\n",
      "-- 2021-02-12 17:28:03 - muse.mca - WARNING\n",
      "Check growth constraints for wind.\n",
      "\n",
      "/Users/alexanderkell/anaconda3/envs/muse/lib/python3.7/site-packages/xarray/core/alignment.py:298: FutureWarning: Index.__or__ operating as a set operation is deprecated, in the future this will be a logical operation matching Series.__or__.  Use index.union(other) instead\n",
      "  index = joiner(matching_indexes)\n",
      "/Users/alexanderkell/anaconda3/envs/muse/lib/python3.7/site-packages/xarray/core/alignment.py:298: FutureWarning: Index.__or__ operating as a set operation is deprecated, in the future this will be a logical operation matching Series.__or__.  Use index.union(other) instead\n",
      "  index = joiner(matching_indexes)\n"
     ]
    },
    {
     "name": "stdout",
     "output_type": "stream",
     "text": [
      "Primal Feasibility  Dual Feasibility    Duality Gap         Step             Path Parameter      Objective          \n",
      "1.0                 1.0                 1.0                 -                1.0                 414.316476678       \n",
      "0.1943112264484     0.1943112264484     0.1943112264484     0.8115414580695  0.1943112264484     293.1180738751      \n",
      "0.05737071259203    0.05737071259203    0.05737071259203    0.7291321197237  0.05737071259203    17.07106219004      \n",
      "0.01062277327644    0.01062277327644    0.01062277327644    0.8173814867435  0.01062277327644    12.44885046682      \n",
      "0.009064514495372   0.009064514495372   0.009064514495372   0.1550649500024  0.009064514495372   28.00868491127      \n",
      "0.002334119807303   0.002334119807302   0.002334119807302   0.8051326751208  0.002334119807303   275.8552661516      \n",
      "0.0006946146456256  0.0006946146456253  0.0006946146456253  0.7097377670865  0.0006946146456256  332.7560201848      \n",
      "0.0002533412212498  0.0002533412212497  0.0002533412212497  0.6718481634039  0.0002533412212498  377.2933943082      \n",
      "1.337222262662e-06  1.337222262659e-06  1.337222262657e-06  0.9952598213341  1.337222262662e-06  392.3599718847      \n",
      "6.775859347036e-11  6.775858836498e-11  6.775859057139e-11  0.9999493314535  6.775865467819e-11  392.4568216146      \n",
      "Optimization terminated successfully.\n",
      "         Current function value: 392.456822  \n",
      "         Iterations: 9\n",
      "Primal Feasibility  Dual Feasibility    Duality Gap         Step             Path Parameter      Objective          \n",
      "1.0                 1.0                 1.0                 -                1.0                 414.316476678       \n",
      "0.1030590385675     0.1030590385675     0.1030590385675     0.9011154818883  0.1030590385675     219.2748221074      \n",
      "0.02654054666621    0.02654054666621    0.02654054666621    0.7752562655553  0.02654054666621    276.7551091026      \n",
      "0.01427394633699    0.01427394633699    0.01427394633699    0.4912526709581  0.01427394633699    607.4391713227      \n",
      "0.001218580492868   0.00121858049279    0.00121858049279    0.9248974186409  0.001218580492752   1166.289755792      \n",
      "1.88840376277e-05   1.888403762545e-05  1.888403762546e-05  0.9855510994727  1.888403762492e-05  1241.740132446      \n",
      "1.54574656327e-09   1.545746258364e-09  1.545746243841e-09  0.9999229273907  1.545746152559e-09  1242.779847889      \n",
      "1.863839816076e-10  1.869033376493e-10  1.869033236809e-10  0.8804826080723  1.881270005041e-10  1242.77993709       \n",
      "Optimization terminated successfully.\n",
      "         Current function value: 1242.779937 \n",
      "         Iterations: 7\n"
     ]
    },
    {
     "name": "stderr",
     "output_type": "stream",
     "text": [
      "/Users/alexanderkell/anaconda3/envs/muse/lib/python3.7/site-packages/xarray/core/alignment.py:298: FutureWarning: Index.__or__ operating as a set operation is deprecated, in the future this will be a logical operation matching Series.__or__.  Use index.union(other) instead\n",
      "  index = joiner(matching_indexes)\n",
      "/Users/alexanderkell/anaconda3/envs/muse/lib/python3.7/site-packages/xarray/core/alignment.py:298: FutureWarning: Index.__or__ operating as a set operation is deprecated, in the future this will be a logical operation matching Series.__or__.  Use index.union(other) instead\n",
      "  index = joiner(matching_indexes)\n",
      "/Users/alexanderkell/anaconda3/envs/muse/lib/python3.7/site-packages/xarray/core/alignment.py:298: FutureWarning: Index.__or__ operating as a set operation is deprecated, in the future this will be a logical operation matching Series.__or__.  Use index.union(other) instead\n",
      "  index = joiner(matching_indexes)\n",
      "/Users/alexanderkell/anaconda3/envs/muse/lib/python3.7/site-packages/xarray/core/alignment.py:298: FutureWarning: Index.__or__ operating as a set operation is deprecated, in the future this will be a logical operation matching Series.__or__.  Use index.union(other) instead\n",
      "  index = joiner(matching_indexes)\n"
     ]
    },
    {
     "name": "stdout",
     "output_type": "stream",
     "text": [
      "Primal Feasibility  Dual Feasibility    Duality Gap         Step             Path Parameter      Objective          \n",
      "1.0                 1.0                 1.0                 -                1.0                 652.1069903706      \n",
      "0.06097571429333    0.06097571429334    0.06097571429332    0.9444902662604  0.06097571429333    285.2043200596      \n",
      "0.01533833555952    0.01533833555952    0.01533833555951    0.7609599230377  0.01533833555952    2.726200761482      \n",
      "0.006316196362045   0.006316196362045   0.006316196362044   0.6163829523555  0.006316196362045   8.634999065496      \n",
      "0.001219580332233   0.001219580332233   0.001219580332233   0.8323480537795  0.001219580332233   8.307794697188      \n",
      "0.0005645791473217  0.000564579147322   0.0005645791473219  0.5500511908637  0.000564579147322   6.632034268776      \n",
      "0.0001849432525605  0.0001849432525606  0.0001849432525605  0.7137620754709  0.0001849432525606  4.483601468201      \n",
      "2.517759641229e-05  2.51775964123e-05   2.517759641228e-05  0.9034269502159  2.517759641228e-05  4.138476380404      \n",
      "3.098182468044e-08  3.098182466358e-08  3.098182466075e-08  0.998832207229   3.098182465615e-08  4.00002374649       \n",
      "1.54918792903e-12   1.54911830064e-12   1.54910645338e-12   0.9999499995093  1.54910555433e-12   3.99995064954       \n",
      "Optimization terminated successfully.\n",
      "         Current function value: 3.999951    \n",
      "         Iterations: 9\n"
     ]
    },
    {
     "name": "stderr",
     "output_type": "stream",
     "text": [
      "/Users/alexanderkell/anaconda3/envs/muse/lib/python3.7/site-packages/xarray/core/alignment.py:298: FutureWarning: Index.__or__ operating as a set operation is deprecated, in the future this will be a logical operation matching Series.__or__.  Use index.union(other) instead\n",
      "  index = joiner(matching_indexes)\n",
      "/Users/alexanderkell/anaconda3/envs/muse/lib/python3.7/site-packages/xarray/core/alignment.py:298: FutureWarning: Index.__or__ operating as a set operation is deprecated, in the future this will be a logical operation matching Series.__or__.  Use index.union(other) instead\n",
      "  index = joiner(matching_indexes)\n",
      "/Users/alexanderkell/anaconda3/envs/muse/lib/python3.7/site-packages/xarray/core/alignment.py:298: FutureWarning: Index.__or__ operating as a set operation is deprecated, in the future this will be a logical operation matching Series.__or__.  Use index.union(other) instead\n",
      "  index = joiner(matching_indexes)\n",
      "/Users/alexanderkell/anaconda3/envs/muse/lib/python3.7/site-packages/xarray/core/alignment.py:298: FutureWarning: Index.__or__ operating as a set operation is deprecated, in the future this will be a logical operation matching Series.__or__.  Use index.union(other) instead\n",
      "  index = joiner(matching_indexes)\n"
     ]
    },
    {
     "name": "stdout",
     "output_type": "stream",
     "text": [
      "Primal Feasibility  Dual Feasibility    Duality Gap         Step             Path Parameter      Objective          \n",
      "1.0                 1.0                 1.0                 -                1.0                 24.59260538017      \n",
      "0.02944420805324    0.02944420805324    0.02944420805324    0.9778743186942  0.02944420805324    27.12355971611      \n",
      "0.008204037533953   0.008204037533953   0.008204037533951   0.7626654785936  0.008204037533953   110.4823557448      \n",
      "0.000411527784342   0.0004115277843502  0.0004115277843501  0.9587152757575  0.0004115277843258  181.7019445709      \n",
      "2.842168950141e-08  2.842168966335e-08  2.842168960839e-08  0.9999314505928  2.842168961761e-08  184.4443099515      \n",
      "1.421047539553e-12  1.421191530859e-12  1.421218438031e-12  0.9999499962775  1.421084502005e-12  184.4445393123      \n",
      "Optimization terminated successfully.\n",
      "         Current function value: 184.444539  \n",
      "         Iterations: 5\n"
     ]
    },
    {
     "name": "stderr",
     "output_type": "stream",
     "text": [
      "/Users/alexanderkell/anaconda3/envs/muse/lib/python3.7/site-packages/xarray/core/alignment.py:298: FutureWarning: Index.__or__ operating as a set operation is deprecated, in the future this will be a logical operation matching Series.__or__.  Use index.union(other) instead\n",
      "  index = joiner(matching_indexes)\n",
      "/Users/alexanderkell/anaconda3/envs/muse/lib/python3.7/site-packages/xarray/core/alignment.py:298: FutureWarning: Index.__or__ operating as a set operation is deprecated, in the future this will be a logical operation matching Series.__or__.  Use index.union(other) instead\n",
      "  index = joiner(matching_indexes)\n",
      "-- 2021-02-12 17:28:07 - muse.mca - WARNING\n",
      "Check growth constraints for wind.\n",
      "\n",
      "/Users/alexanderkell/anaconda3/envs/muse/lib/python3.7/site-packages/xarray/core/alignment.py:298: FutureWarning: Index.__or__ operating as a set operation is deprecated, in the future this will be a logical operation matching Series.__or__.  Use index.union(other) instead\n",
      "  index = joiner(matching_indexes)\n",
      "/Users/alexanderkell/anaconda3/envs/muse/lib/python3.7/site-packages/xarray/core/alignment.py:298: FutureWarning: Index.__or__ operating as a set operation is deprecated, in the future this will be a logical operation matching Series.__or__.  Use index.union(other) instead\n",
      "  index = joiner(matching_indexes)\n"
     ]
    },
    {
     "name": "stdout",
     "output_type": "stream",
     "text": [
      "Primal Feasibility  Dual Feasibility    Duality Gap         Step             Path Parameter      Objective          \n",
      "1.0                 1.0                 1.0                 -                1.0                 414.316476678       \n",
      "0.1943112264484     0.1943112264484     0.1943112264484     0.8115414580695  0.1943112264484     293.1180738751      \n",
      "0.05737071259203    0.05737071259203    0.05737071259203    0.7291321197237  0.05737071259203    17.07106219004      \n",
      "0.01062277327644    0.01062277327644    0.01062277327644    0.8173814867435  0.01062277327644    12.44885046682      \n",
      "0.009064514495372   0.009064514495372   0.009064514495372   0.1550649500024  0.009064514495372   28.00868491127      \n",
      "0.002334119807303   0.002334119807302   0.002334119807302   0.8051326751208  0.002334119807303   275.8552661516      \n",
      "0.0006946146456256  0.0006946146456253  0.0006946146456253  0.7097377670865  0.0006946146456256  332.7560201848      \n",
      "0.0002533412212498  0.0002533412212497  0.0002533412212497  0.6718481634039  0.0002533412212498  377.2933943082      \n",
      "1.337222262662e-06  1.337222262659e-06  1.337222262657e-06  0.9952598213341  1.337222262662e-06  392.3599718847      \n",
      "6.775859347036e-11  6.775858836498e-11  6.775859057139e-11  0.9999493314535  6.775865467819e-11  392.4568216146      \n",
      "Optimization terminated successfully.\n",
      "         Current function value: 392.456822  \n",
      "         Iterations: 9\n",
      "Primal Feasibility  Dual Feasibility    Duality Gap         Step             Path Parameter      Objective          \n",
      "1.0                 1.0                 1.0                 -                1.0                 414.316476678       \n",
      "0.1030590385675     0.1030590385675     0.1030590385675     0.9011154818883  0.1030590385675     219.2748221074      \n",
      "0.02654054666621    0.02654054666621    0.02654054666621    0.7752562655553  0.02654054666621    276.7551091026      \n",
      "0.01427394633699    0.01427394633699    0.01427394633699    0.4912526709581  0.01427394633699    607.4391713227      \n",
      "0.001218580492868   0.00121858049279    0.00121858049279    0.9248974186409  0.001218580492752   1166.289755792      \n",
      "1.88840376277e-05   1.888403762545e-05  1.888403762546e-05  0.9855510994727  1.888403762492e-05  1241.740132446      \n",
      "1.54574656327e-09   1.545746258364e-09  1.545746243841e-09  0.9999229273907  1.545746152559e-09  1242.779847889      \n",
      "1.863839816076e-10  1.869033376493e-10  1.869033236809e-10  0.8804826080723  1.881270005041e-10  1242.77993709       \n",
      "Optimization terminated successfully.\n",
      "         Current function value: 1242.779937 \n",
      "         Iterations: 7\n"
     ]
    },
    {
     "name": "stderr",
     "output_type": "stream",
     "text": [
      "/Users/alexanderkell/anaconda3/envs/muse/lib/python3.7/site-packages/xarray/core/alignment.py:298: FutureWarning: Index.__or__ operating as a set operation is deprecated, in the future this will be a logical operation matching Series.__or__.  Use index.union(other) instead\n",
      "  index = joiner(matching_indexes)\n",
      "/Users/alexanderkell/anaconda3/envs/muse/lib/python3.7/site-packages/xarray/core/alignment.py:298: FutureWarning: Index.__or__ operating as a set operation is deprecated, in the future this will be a logical operation matching Series.__or__.  Use index.union(other) instead\n",
      "  index = joiner(matching_indexes)\n",
      "/Users/alexanderkell/anaconda3/envs/muse/lib/python3.7/site-packages/xarray/core/alignment.py:298: FutureWarning: Index.__or__ operating as a set operation is deprecated, in the future this will be a logical operation matching Series.__or__.  Use index.union(other) instead\n",
      "  index = joiner(matching_indexes)\n",
      "/Users/alexanderkell/anaconda3/envs/muse/lib/python3.7/site-packages/xarray/core/alignment.py:298: FutureWarning: Index.__or__ operating as a set operation is deprecated, in the future this will be a logical operation matching Series.__or__.  Use index.union(other) instead\n",
      "  index = joiner(matching_indexes)\n"
     ]
    },
    {
     "name": "stdout",
     "output_type": "stream",
     "text": [
      "Primal Feasibility  Dual Feasibility    Duality Gap         Step             Path Parameter      Objective          \n",
      "1.0                 1.0                 1.0                 -                1.0                 652.1069903706      \n",
      "0.06097571429333    0.06097571429334    0.06097571429332    0.9444902662604  0.06097571429333    285.2043200596      \n",
      "0.01533833555952    0.01533833555952    0.01533833555951    0.7609599230377  0.01533833555952    2.726200761482      \n",
      "0.006316196362045   0.006316196362045   0.006316196362044   0.6163829523555  0.006316196362045   8.634999065496      \n",
      "0.001219580332233   0.001219580332233   0.001219580332233   0.8323480537795  0.001219580332233   8.307794697188      \n",
      "0.0005645791473217  0.000564579147322   0.0005645791473219  0.5500511908637  0.000564579147322   6.632034268776      \n",
      "0.0001849432525605  0.0001849432525606  0.0001849432525605  0.7137620754709  0.0001849432525606  4.483601468201      \n",
      "2.517759641229e-05  2.51775964123e-05   2.517759641228e-05  0.9034269502159  2.517759641228e-05  4.138476380404      \n",
      "3.098182468044e-08  3.098182466358e-08  3.098182466075e-08  0.998832207229   3.098182465615e-08  4.00002374649       \n",
      "1.54918792903e-12   1.54911830064e-12   1.54910645338e-12   0.9999499995093  1.54910555433e-12   3.99995064954       \n",
      "Optimization terminated successfully.\n",
      "         Current function value: 3.999951    \n",
      "         Iterations: 9\n"
     ]
    },
    {
     "name": "stderr",
     "output_type": "stream",
     "text": [
      "/Users/alexanderkell/anaconda3/envs/muse/lib/python3.7/site-packages/xarray/core/alignment.py:298: FutureWarning: Index.__or__ operating as a set operation is deprecated, in the future this will be a logical operation matching Series.__or__.  Use index.union(other) instead\n",
      "  index = joiner(matching_indexes)\n",
      "/Users/alexanderkell/anaconda3/envs/muse/lib/python3.7/site-packages/xarray/core/alignment.py:298: FutureWarning: Index.__or__ operating as a set operation is deprecated, in the future this will be a logical operation matching Series.__or__.  Use index.union(other) instead\n",
      "  index = joiner(matching_indexes)\n",
      "/Users/alexanderkell/anaconda3/envs/muse/lib/python3.7/site-packages/xarray/core/alignment.py:298: FutureWarning: Index.__or__ operating as a set operation is deprecated, in the future this will be a logical operation matching Series.__or__.  Use index.union(other) instead\n",
      "  index = joiner(matching_indexes)\n",
      "/Users/alexanderkell/anaconda3/envs/muse/lib/python3.7/site-packages/xarray/core/alignment.py:298: FutureWarning: Index.__or__ operating as a set operation is deprecated, in the future this will be a logical operation matching Series.__or__.  Use index.union(other) instead\n",
      "  index = joiner(matching_indexes)\n"
     ]
    },
    {
     "name": "stdout",
     "output_type": "stream",
     "text": [
      "Primal Feasibility  Dual Feasibility    Duality Gap         Step             Path Parameter      Objective          \n",
      "1.0                 1.0                 1.0                 -                1.0                 24.59260538017      \n",
      "0.02944420805324    0.02944420805324    0.02944420805324    0.9778743186942  0.02944420805324    27.12355971611      \n",
      "0.008204037533953   0.008204037533953   0.008204037533951   0.7626654785936  0.008204037533953   110.4823557448      \n",
      "0.000411527784342   0.0004115277843502  0.0004115277843501  0.9587152757575  0.0004115277843258  181.7019445709      \n",
      "2.842168950141e-08  2.842168966335e-08  2.842168960839e-08  0.9999314505928  2.842168961761e-08  184.4443099515      \n",
      "1.421047539553e-12  1.421191530859e-12  1.421218438031e-12  0.9999499962775  1.421084502005e-12  184.4445393123      \n",
      "Optimization terminated successfully.\n",
      "         Current function value: 184.444539  \n",
      "         Iterations: 5\n"
     ]
    },
    {
     "name": "stderr",
     "output_type": "stream",
     "text": [
      "/Users/alexanderkell/anaconda3/envs/muse/lib/python3.7/site-packages/xarray/core/alignment.py:298: FutureWarning: Index.__or__ operating as a set operation is deprecated, in the future this will be a logical operation matching Series.__or__.  Use index.union(other) instead\n",
      "  index = joiner(matching_indexes)\n",
      "/Users/alexanderkell/anaconda3/envs/muse/lib/python3.7/site-packages/xarray/core/alignment.py:298: FutureWarning: Index.__or__ operating as a set operation is deprecated, in the future this will be a logical operation matching Series.__or__.  Use index.union(other) instead\n",
      "  index = joiner(matching_indexes)\n",
      "-- 2021-02-12 17:28:10 - muse.mca - WARNING\n",
      "Check growth constraints for wind.\n",
      "\n",
      "/Users/alexanderkell/anaconda3/envs/muse/lib/python3.7/site-packages/xarray/core/alignment.py:298: FutureWarning: Index.__or__ operating as a set operation is deprecated, in the future this will be a logical operation matching Series.__or__.  Use index.union(other) instead\n",
      "  index = joiner(matching_indexes)\n",
      "/Users/alexanderkell/anaconda3/envs/muse/lib/python3.7/site-packages/xarray/core/alignment.py:298: FutureWarning: Index.__or__ operating as a set operation is deprecated, in the future this will be a logical operation matching Series.__or__.  Use index.union(other) instead\n",
      "  index = joiner(matching_indexes)\n"
     ]
    },
    {
     "name": "stdout",
     "output_type": "stream",
     "text": [
      "Primal Feasibility  Dual Feasibility    Duality Gap         Step             Path Parameter      Objective          \n",
      "1.0                 1.0                 1.0                 -                1.0                 454.6784294315      \n",
      "0.1862232334687     0.1862232334687     0.1862232334687     0.8174567476576  0.1862232334687     282.4632604722      \n",
      "0.0287074797504     0.0287074797504     0.0287074797504     0.8875534078527  0.0287074797504     46.09791382855      \n",
      "0.009705128409281   0.009705128409281   0.009705128409281   0.6723641007729  0.009705128409281   35.13402203132      \n",
      "0.007693915131645   0.007693915131645   0.007693915131645   0.2197837129324  0.007693915131645   80.9388153546       \n",
      "0.001699044795353   0.001699044795353   0.001699044795353   0.8250841182146  0.001699044795348   298.2653881791      \n",
      "0.0005650008984418  0.0005650008984418  0.0005650008984419  0.6785659484153  0.00056500089844    327.9758092794      \n",
      "0.0002196033952696  0.0002196033952696  0.0002196033952696  0.6469207182899  0.0002196033952689  358.4708363215      \n",
      "2.579861470681e-06  2.579861470679e-06  2.579861470684e-06  0.9887803221567  2.579861470685e-06  368.5514208656      \n",
      "1.310502143698e-10  1.310502037818e-10  1.310502009978e-10  0.9999492039373  1.310502120049e-10  368.6632645094      \n",
      "Optimization terminated successfully.\n",
      "         Current function value: 368.663265  \n",
      "         Iterations: 9\n",
      "Primal Feasibility  Dual Feasibility    Duality Gap         Step             Path Parameter      Objective          \n",
      "1.0                 1.0                 1.0                 -                1.0                 454.6784294315      \n",
      "0.06717002148692    0.06717002148692    0.06717002148691    0.9393362630377  0.06717002148692    183.2225626768      \n",
      "0.03355064824656    0.03355064824656    0.03355064824656    0.52306811507    0.03355064824656    256.2098343439      \n",
      "0.01040420232404    0.01040420232404    0.01040420232404    0.6975119884837  0.01040420232404    178.3301860974      \n",
      "0.004349337379373   0.004349337379372   0.004349337379372   0.6235886581481  0.004349337379372   396.8309870517      \n",
      "0.002928936785157   0.002928936785156   0.002928936785156   0.3467952580896  0.002928936785156   488.9763832337      \n",
      "0.000145820826892   0.0001458208269035  0.0001458208269035  0.9601001357842  0.0001458208269062  665.3317158631      \n",
      "1.593588653465e-07  1.593588653755e-07  1.593588653725e-07  0.9989479829537  1.593588646566e-07  675.869114615       \n",
      "7.992037125337e-12  7.990957357734e-12  7.990959116392e-12  0.9999498582247  7.990902334686e-12  675.8826833986      \n",
      "Optimization terminated successfully.\n",
      "         Current function value: 675.882683  \n",
      "         Iterations: 8\n"
     ]
    },
    {
     "name": "stderr",
     "output_type": "stream",
     "text": [
      "/Users/alexanderkell/anaconda3/envs/muse/lib/python3.7/site-packages/xarray/core/alignment.py:298: FutureWarning: Index.__or__ operating as a set operation is deprecated, in the future this will be a logical operation matching Series.__or__.  Use index.union(other) instead\n",
      "  index = joiner(matching_indexes)\n",
      "/Users/alexanderkell/anaconda3/envs/muse/lib/python3.7/site-packages/xarray/core/alignment.py:298: FutureWarning: Index.__or__ operating as a set operation is deprecated, in the future this will be a logical operation matching Series.__or__.  Use index.union(other) instead\n",
      "  index = joiner(matching_indexes)\n",
      "/Users/alexanderkell/anaconda3/envs/muse/lib/python3.7/site-packages/xarray/core/alignment.py:298: FutureWarning: Index.__or__ operating as a set operation is deprecated, in the future this will be a logical operation matching Series.__or__.  Use index.union(other) instead\n",
      "  index = joiner(matching_indexes)\n",
      "/Users/alexanderkell/anaconda3/envs/muse/lib/python3.7/site-packages/xarray/core/alignment.py:298: FutureWarning: Index.__or__ operating as a set operation is deprecated, in the future this will be a logical operation matching Series.__or__.  Use index.union(other) instead\n",
      "  index = joiner(matching_indexes)\n"
     ]
    },
    {
     "name": "stdout",
     "output_type": "stream",
     "text": [
      "Primal Feasibility  Dual Feasibility    Duality Gap         Step             Path Parameter      Objective          \n",
      "1.0                 1.0                 1.0                 -                1.0                 759.5666413636      \n",
      "0.06104093664242    0.06104093664242    0.06104093664239    0.9444854714867  0.06104093664242    386.9519025018      \n",
      "0.01481511454069    0.01481511454069    0.01481511454068    0.7670183371844  0.01481511454069    2.643589195986      \n",
      "0.005238876768305   0.005238876768305   0.005238876768303   0.676663837019   0.005238876768305   11.29316821414      \n",
      "0.001567745187297   0.001567745187294   0.001567745187294   0.7265977484231  0.001567745187294   12.32846209586      \n",
      "0.0001184080212778  0.0001184080212777  0.0001184080212776  0.9328477550796  0.0001184080212777  6.401954888574      \n",
      "1.026491222144e-05  1.026491222142e-05  1.026491222141e-05  0.9598465246195  1.026491222142e-05  6.140180340434      \n",
      "2.564198030902e-08  2.564197955366e-08  2.564197955582e-08  0.9988486248621  2.564197959072e-08  6.06660177436       \n",
      "1.282168813055e-12  1.28215741509e-12   1.282165969168e-12  0.9999499973898  1.282164183868e-12  6.066591804504      \n",
      "Optimization terminated successfully.\n",
      "         Current function value: 6.066592    \n",
      "         Iterations: 8\n"
     ]
    },
    {
     "name": "stderr",
     "output_type": "stream",
     "text": [
      "/Users/alexanderkell/anaconda3/envs/muse/lib/python3.7/site-packages/xarray/core/alignment.py:298: FutureWarning: Index.__or__ operating as a set operation is deprecated, in the future this will be a logical operation matching Series.__or__.  Use index.union(other) instead\n",
      "  index = joiner(matching_indexes)\n",
      "/Users/alexanderkell/anaconda3/envs/muse/lib/python3.7/site-packages/xarray/core/alignment.py:298: FutureWarning: Index.__or__ operating as a set operation is deprecated, in the future this will be a logical operation matching Series.__or__.  Use index.union(other) instead\n",
      "  index = joiner(matching_indexes)\n",
      "/Users/alexanderkell/anaconda3/envs/muse/lib/python3.7/site-packages/xarray/core/alignment.py:298: FutureWarning: Index.__or__ operating as a set operation is deprecated, in the future this will be a logical operation matching Series.__or__.  Use index.union(other) instead\n",
      "  index = joiner(matching_indexes)\n",
      "/Users/alexanderkell/anaconda3/envs/muse/lib/python3.7/site-packages/xarray/core/alignment.py:298: FutureWarning: Index.__or__ operating as a set operation is deprecated, in the future this will be a logical operation matching Series.__or__.  Use index.union(other) instead\n",
      "  index = joiner(matching_indexes)\n",
      "/Users/alexanderkell/anaconda3/envs/muse/lib/python3.7/site-packages/xarray/core/alignment.py:298: FutureWarning: Index.__or__ operating as a set operation is deprecated, in the future this will be a logical operation matching Series.__or__.  Use index.union(other) instead\n",
      "  index = joiner(matching_indexes)\n",
      "/Users/alexanderkell/anaconda3/envs/muse/lib/python3.7/site-packages/xarray/core/alignment.py:298: FutureWarning: Index.__or__ operating as a set operation is deprecated, in the future this will be a logical operation matching Series.__or__.  Use index.union(other) instead\n",
      "  index = joiner(matching_indexes)\n",
      "-- 2021-02-12 17:28:13 - muse.mca - WARNING\n",
      "Check growth constraints for wind.\n",
      "\n",
      "/Users/alexanderkell/anaconda3/envs/muse/lib/python3.7/site-packages/xarray/core/alignment.py:298: FutureWarning: Index.__or__ operating as a set operation is deprecated, in the future this will be a logical operation matching Series.__or__.  Use index.union(other) instead\n",
      "  index = joiner(matching_indexes)\n",
      "/Users/alexanderkell/anaconda3/envs/muse/lib/python3.7/site-packages/xarray/core/alignment.py:298: FutureWarning: Index.__or__ operating as a set operation is deprecated, in the future this will be a logical operation matching Series.__or__.  Use index.union(other) instead\n",
      "  index = joiner(matching_indexes)\n"
     ]
    },
    {
     "name": "stdout",
     "output_type": "stream",
     "text": [
      "Primal Feasibility  Dual Feasibility    Duality Gap         Step             Path Parameter      Objective          \n",
      "1.0                 1.0                 1.0                 -                1.0                 454.6784294315      \n",
      "0.1862232334687     0.1862232334687     0.1862232334687     0.8174567476576  0.1862232334687     282.4632604722      \n",
      "0.0287074797504     0.0287074797504     0.0287074797504     0.8875534078527  0.0287074797504     46.09791382855      \n",
      "0.009705128409281   0.009705128409281   0.009705128409281   0.6723641007729  0.009705128409281   35.13402203132      \n",
      "0.007693915131645   0.007693915131645   0.007693915131645   0.2197837129324  0.007693915131645   80.9388153546       \n",
      "0.001699044795353   0.001699044795353   0.001699044795353   0.8250841182146  0.001699044795348   298.2653881791      \n",
      "0.0005650008984418  0.0005650008984418  0.0005650008984419  0.6785659484153  0.00056500089844    327.9758092794      \n",
      "0.0002196033952696  0.0002196033952696  0.0002196033952696  0.6469207182899  0.0002196033952689  358.4708363215      \n",
      "2.579861470681e-06  2.579861470679e-06  2.579861470684e-06  0.9887803221567  2.579861470685e-06  368.5514208656      \n",
      "1.310502143698e-10  1.310502037818e-10  1.310502009978e-10  0.9999492039373  1.310502120049e-10  368.6632645094      \n",
      "Optimization terminated successfully.\n",
      "         Current function value: 368.663265  \n",
      "         Iterations: 9\n",
      "Primal Feasibility  Dual Feasibility    Duality Gap         Step             Path Parameter      Objective          \n",
      "1.0                 1.0                 1.0                 -                1.0                 454.6784294315      \n",
      "0.06717002148692    0.06717002148692    0.06717002148691    0.9393362630377  0.06717002148692    183.2225626768      \n",
      "0.03355064824656    0.03355064824656    0.03355064824656    0.52306811507    0.03355064824656    256.2098343439      \n",
      "0.01040420232404    0.01040420232404    0.01040420232404    0.6975119884837  0.01040420232404    178.3301860974      \n",
      "0.004349337379373   0.004349337379372   0.004349337379372   0.6235886581481  0.004349337379372   396.8309870517      \n",
      "0.002928936785157   0.002928936785156   0.002928936785156   0.3467952580896  0.002928936785156   488.9763832337      \n",
      "0.000145820826892   0.0001458208269035  0.0001458208269035  0.9601001357842  0.0001458208269062  665.3317158631      \n",
      "1.593588653465e-07  1.593588653755e-07  1.593588653725e-07  0.9989479829537  1.593588646566e-07  675.869114615       \n",
      "7.992037125337e-12  7.990957357734e-12  7.990959116392e-12  0.9999498582247  7.990902334686e-12  675.8826833986      \n",
      "Optimization terminated successfully.\n",
      "         Current function value: 675.882683  \n",
      "         Iterations: 8\n"
     ]
    },
    {
     "name": "stderr",
     "output_type": "stream",
     "text": [
      "/Users/alexanderkell/anaconda3/envs/muse/lib/python3.7/site-packages/xarray/core/alignment.py:298: FutureWarning: Index.__or__ operating as a set operation is deprecated, in the future this will be a logical operation matching Series.__or__.  Use index.union(other) instead\n",
      "  index = joiner(matching_indexes)\n",
      "/Users/alexanderkell/anaconda3/envs/muse/lib/python3.7/site-packages/xarray/core/alignment.py:298: FutureWarning: Index.__or__ operating as a set operation is deprecated, in the future this will be a logical operation matching Series.__or__.  Use index.union(other) instead\n",
      "  index = joiner(matching_indexes)\n",
      "/Users/alexanderkell/anaconda3/envs/muse/lib/python3.7/site-packages/xarray/core/alignment.py:298: FutureWarning: Index.__or__ operating as a set operation is deprecated, in the future this will be a logical operation matching Series.__or__.  Use index.union(other) instead\n",
      "  index = joiner(matching_indexes)\n",
      "/Users/alexanderkell/anaconda3/envs/muse/lib/python3.7/site-packages/xarray/core/alignment.py:298: FutureWarning: Index.__or__ operating as a set operation is deprecated, in the future this will be a logical operation matching Series.__or__.  Use index.union(other) instead\n",
      "  index = joiner(matching_indexes)\n"
     ]
    },
    {
     "name": "stdout",
     "output_type": "stream",
     "text": [
      "Primal Feasibility  Dual Feasibility    Duality Gap         Step             Path Parameter      Objective          \n",
      "1.0                 1.0                 1.0                 -                1.0                 759.5666413636      \n",
      "0.06104093664242    0.06104093664242    0.06104093664239    0.9444854714867  0.06104093664242    386.9519025018      \n",
      "0.01481511454069    0.01481511454069    0.01481511454068    0.7670183371844  0.01481511454069    2.643589195986      \n",
      "0.005238876768305   0.005238876768305   0.005238876768303   0.676663837019   0.005238876768305   11.29316821414      \n",
      "0.001567745187297   0.001567745187294   0.001567745187294   0.7265977484231  0.001567745187294   12.32846209586      \n",
      "0.0001184080212778  0.0001184080212777  0.0001184080212776  0.9328477550796  0.0001184080212777  6.401954888574      \n",
      "1.026491222144e-05  1.026491222142e-05  1.026491222141e-05  0.9598465246195  1.026491222142e-05  6.140180340434      \n",
      "2.564198030902e-08  2.564197955366e-08  2.564197955582e-08  0.9988486248621  2.564197959072e-08  6.06660177436       \n",
      "1.282168813055e-12  1.28215741509e-12   1.282165969168e-12  0.9999499973898  1.282164183868e-12  6.066591804504      \n",
      "Optimization terminated successfully.\n",
      "         Current function value: 6.066592    \n",
      "         Iterations: 8\n"
     ]
    },
    {
     "name": "stderr",
     "output_type": "stream",
     "text": [
      "/Users/alexanderkell/anaconda3/envs/muse/lib/python3.7/site-packages/xarray/core/alignment.py:298: FutureWarning: Index.__or__ operating as a set operation is deprecated, in the future this will be a logical operation matching Series.__or__.  Use index.union(other) instead\n",
      "  index = joiner(matching_indexes)\n",
      "/Users/alexanderkell/anaconda3/envs/muse/lib/python3.7/site-packages/xarray/core/alignment.py:298: FutureWarning: Index.__or__ operating as a set operation is deprecated, in the future this will be a logical operation matching Series.__or__.  Use index.union(other) instead\n",
      "  index = joiner(matching_indexes)\n",
      "/Users/alexanderkell/anaconda3/envs/muse/lib/python3.7/site-packages/xarray/core/alignment.py:298: FutureWarning: Index.__or__ operating as a set operation is deprecated, in the future this will be a logical operation matching Series.__or__.  Use index.union(other) instead\n",
      "  index = joiner(matching_indexes)\n",
      "/Users/alexanderkell/anaconda3/envs/muse/lib/python3.7/site-packages/xarray/core/alignment.py:298: FutureWarning: Index.__or__ operating as a set operation is deprecated, in the future this will be a logical operation matching Series.__or__.  Use index.union(other) instead\n",
      "  index = joiner(matching_indexes)\n",
      "/Users/alexanderkell/anaconda3/envs/muse/lib/python3.7/site-packages/xarray/core/alignment.py:298: FutureWarning: Index.__or__ operating as a set operation is deprecated, in the future this will be a logical operation matching Series.__or__.  Use index.union(other) instead\n",
      "  index = joiner(matching_indexes)\n",
      "/Users/alexanderkell/anaconda3/envs/muse/lib/python3.7/site-packages/xarray/core/alignment.py:298: FutureWarning: Index.__or__ operating as a set operation is deprecated, in the future this will be a logical operation matching Series.__or__.  Use index.union(other) instead\n",
      "  index = joiner(matching_indexes)\n",
      "-- 2021-02-12 17:28:17 - muse.mca - WARNING\n",
      "Check growth constraints for wind.\n",
      "\n",
      "/Users/alexanderkell/anaconda3/envs/muse/lib/python3.7/site-packages/xarray/core/alignment.py:298: FutureWarning: Index.__or__ operating as a set operation is deprecated, in the future this will be a logical operation matching Series.__or__.  Use index.union(other) instead\n",
      "  index = joiner(matching_indexes)\n",
      "/Users/alexanderkell/anaconda3/envs/muse/lib/python3.7/site-packages/xarray/core/alignment.py:298: FutureWarning: Index.__or__ operating as a set operation is deprecated, in the future this will be a logical operation matching Series.__or__.  Use index.union(other) instead\n",
      "  index = joiner(matching_indexes)\n"
     ]
    },
    {
     "name": "stdout",
     "output_type": "stream",
     "text": [
      "Primal Feasibility  Dual Feasibility    Duality Gap         Step             Path Parameter      Objective          \n",
      "1.0                 1.0                 1.0                 -                1.0                 506.4464461439      \n",
      "0.1717574295871     0.1717574295871     0.1717574295871     0.8319963473544  0.1717574295871     268.7406800962      \n",
      "0.06638577511012    0.06638577511012    0.06638577511013    0.6490768395258  0.06638577511012    376.5617800918      \n",
      "0.01081199911007    0.01081199911007    0.01081199911007    0.8457086650026  0.01081199911007    156.4483195507      \n",
      "0.006166341998285   0.006166341998284   0.006166341998284   0.4575243211179  0.006166341998284   243.5697308223      \n",
      "0.0005157722017961  0.0005157722018045  0.0005157722018045  0.9303097249242  0.000515772201786   353.933860727       \n",
      "7.752031505593e-08  7.752031505775e-08  7.75203150604e-08   0.9998584908051  7.752031504124e-08  354.2607815932      \n",
      "1.946080900959e-11  1.946080890233e-11  1.946080719987e-11  0.9997489586309  1.946087024423e-11  354.2617797623      \n",
      "Optimization terminated successfully.\n",
      "         Current function value: 354.261780  \n",
      "         Iterations: 7\n",
      "Primal Feasibility  Dual Feasibility    Duality Gap         Step             Path Parameter      Objective          \n",
      "1.0                 1.0                 1.0                 -                1.0                 506.4464461439      \n",
      "0.1079826576654     0.1079826576654     0.1079826576654     0.8981297431247  0.1079826576654     201.9066838728      \n",
      "0.04065945389735    0.04065945389735    0.04065945389735    0.6593890232868  0.04065945389735    434.9407527678      \n",
      "0.01889246737403    0.01889246737403    0.01889246737403    0.5585864512039  0.01889246737403    712.89672687        \n",
      "0.001989080294406   0.001989080294544   0.001989080294544   0.9101975477571  0.001989080294403   1386.629312         \n",
      "2.319895460863e-06  2.319895460686e-06  2.319895460685e-06  0.9988740146777  2.319895460907e-06  1475.934761527      \n",
      "2.151194643564e-10  2.151195269238e-10  2.151195275029e-10  0.9999072718877  2.151195454149e-10  1476.090720108      \n",
      "Optimization terminated successfully.\n",
      "         Current function value: 1476.090720 \n",
      "         Iterations: 6\n"
     ]
    },
    {
     "name": "stderr",
     "output_type": "stream",
     "text": [
      "/Users/alexanderkell/anaconda3/envs/muse/lib/python3.7/site-packages/xarray/core/alignment.py:298: FutureWarning: Index.__or__ operating as a set operation is deprecated, in the future this will be a logical operation matching Series.__or__.  Use index.union(other) instead\n",
      "  index = joiner(matching_indexes)\n",
      "/Users/alexanderkell/anaconda3/envs/muse/lib/python3.7/site-packages/xarray/core/alignment.py:298: FutureWarning: Index.__or__ operating as a set operation is deprecated, in the future this will be a logical operation matching Series.__or__.  Use index.union(other) instead\n",
      "  index = joiner(matching_indexes)\n",
      "/Users/alexanderkell/anaconda3/envs/muse/lib/python3.7/site-packages/xarray/core/alignment.py:298: FutureWarning: Index.__or__ operating as a set operation is deprecated, in the future this will be a logical operation matching Series.__or__.  Use index.union(other) instead\n",
      "  index = joiner(matching_indexes)\n",
      "/Users/alexanderkell/anaconda3/envs/muse/lib/python3.7/site-packages/xarray/core/alignment.py:298: FutureWarning: Index.__or__ operating as a set operation is deprecated, in the future this will be a logical operation matching Series.__or__.  Use index.union(other) instead\n",
      "  index = joiner(matching_indexes)\n"
     ]
    },
    {
     "name": "stdout",
     "output_type": "stream",
     "text": [
      "Primal Feasibility  Dual Feasibility    Duality Gap         Step             Path Parameter      Objective          \n",
      "1.0                 1.0                 1.0                 -                1.0                 889.6273141593      \n",
      "0.06094841228938    0.06094841228938    0.06094841228936    0.9446306809212  0.06094841228938    507.5981904788      \n",
      "0.01403712586707    0.01403712586707    0.01403712586707    0.7774983036922  0.01403712586707    2.560790425915      \n",
      "0.004916790985506   0.004916790985506   0.004916790985504   0.681299063641   0.004916790985506   14.4659902922       \n",
      "0.001087493288617   0.001087493288636   0.001087493288635   0.8126332143683  0.001087493288635   17.14374653731      \n",
      "0.0004935333931193  0.0004935333931281  0.0004935333931279  0.5558253635957  0.0004935333931279  10.54120250855      \n",
      "0.0001121697661327  0.0001121697661353  0.0001121697661352  0.8176433067812  0.0001121697661352  4.989672918589      \n",
      "2.712089125491e-05  2.712089125551e-05  2.712089125551e-05  0.7970501146744  2.712089125551e-05  4.324997090383      \n",
      "1.122718398295e-07  1.12271839905e-07   1.122718399067e-07  0.995975884067   1.122718399052e-07  4.000800852939      \n",
      "5.61515122587e-12   5.615045270793e-12  5.615033922076e-12  0.9999499875766  5.615033842046e-12  3.999950695185      \n",
      "3.02673081693e-16   2.84634460178e-16   2.80788307658e-16   0.9999499995514  2.807864701598e-16  3.99995065266       \n",
      "Optimization terminated successfully.\n",
      "         Current function value: 3.999951    \n",
      "         Iterations: 10\n",
      "Primal Feasibility  Dual Feasibility    Duality Gap         Step             Path Parameter      Objective          \n",
      "1.0                 1.0                 1.0                 -                1.0                 889.6273141593      \n",
      "0.06073185177467    0.06073185177467    0.06073185177465    0.9450179496586  0.06073185177467    760.7133777232      \n",
      "0.006172439565966   0.006172439565966   0.006172439565964   0.8994093979138  0.006172439565966   1.525116036515      \n",
      "0.002290102596849   0.002290102596849   0.002290102596848   0.6678934240021  0.002290102596849   13.23877514046      \n",
      "0.0007463324176682  0.0007463324176676  0.0007463324176673  0.7077017235355  0.0007463324176676  10.8693515852       \n",
      "0.0003923306879672  0.0003923306879668  0.0003923306879667  0.4881145424162  0.0003923306879668  6.236673612228      \n",
      "2.432640261542e-05  2.432640261534e-05  2.432640261533e-05  1.0              2.432640261534e-05  0.3563903988291     \n",
      "6.281868988325e-08  6.281868988982e-08  6.281868988322e-08  0.9991491899822  6.281868988324e-08  0.0001119022046319  \n",
      "3.37831533544e-12   3.378311669936e-12  3.378315418593e-12  0.9999462211736  3.378315418589e-12  6.056706970147e-09  \n",
      "2.306342400962e-13  2.306453539353e-13  2.306342869054e-13  0.9320842097343  2.306342869051e-13  4.595157059773e-10  \n",
      "Optimization terminated successfully.\n",
      "         Current function value: 0.000000    \n",
      "         Iterations: 9\n"
     ]
    },
    {
     "name": "stderr",
     "output_type": "stream",
     "text": [
      "/Users/alexanderkell/anaconda3/envs/muse/lib/python3.7/site-packages/xarray/core/alignment.py:298: FutureWarning: Index.__or__ operating as a set operation is deprecated, in the future this will be a logical operation matching Series.__or__.  Use index.union(other) instead\n",
      "  index = joiner(matching_indexes)\n",
      "/Users/alexanderkell/anaconda3/envs/muse/lib/python3.7/site-packages/xarray/core/alignment.py:298: FutureWarning: Index.__or__ operating as a set operation is deprecated, in the future this will be a logical operation matching Series.__or__.  Use index.union(other) instead\n",
      "  index = joiner(matching_indexes)\n",
      "/Users/alexanderkell/anaconda3/envs/muse/lib/python3.7/site-packages/xarray/core/alignment.py:298: FutureWarning: Index.__or__ operating as a set operation is deprecated, in the future this will be a logical operation matching Series.__or__.  Use index.union(other) instead\n",
      "  index = joiner(matching_indexes)\n",
      "/Users/alexanderkell/anaconda3/envs/muse/lib/python3.7/site-packages/xarray/core/alignment.py:298: FutureWarning: Index.__or__ operating as a set operation is deprecated, in the future this will be a logical operation matching Series.__or__.  Use index.union(other) instead\n",
      "  index = joiner(matching_indexes)\n",
      "/Users/alexanderkell/anaconda3/envs/muse/lib/python3.7/site-packages/xarray/core/alignment.py:298: FutureWarning: Index.__or__ operating as a set operation is deprecated, in the future this will be a logical operation matching Series.__or__.  Use index.union(other) instead\n",
      "  index = joiner(matching_indexes)\n",
      "/Users/alexanderkell/anaconda3/envs/muse/lib/python3.7/site-packages/xarray/core/alignment.py:298: FutureWarning: Index.__or__ operating as a set operation is deprecated, in the future this will be a logical operation matching Series.__or__.  Use index.union(other) instead\n",
      "  index = joiner(matching_indexes)\n",
      "-- 2021-02-12 17:28:20 - muse.mca - WARNING\n",
      "Check growth constraints for wind.\n",
      "\n",
      "/Users/alexanderkell/anaconda3/envs/muse/lib/python3.7/site-packages/xarray/core/alignment.py:298: FutureWarning: Index.__or__ operating as a set operation is deprecated, in the future this will be a logical operation matching Series.__or__.  Use index.union(other) instead\n",
      "  index = joiner(matching_indexes)\n",
      "/Users/alexanderkell/anaconda3/envs/muse/lib/python3.7/site-packages/xarray/core/alignment.py:298: FutureWarning: Index.__or__ operating as a set operation is deprecated, in the future this will be a logical operation matching Series.__or__.  Use index.union(other) instead\n",
      "  index = joiner(matching_indexes)\n"
     ]
    },
    {
     "name": "stdout",
     "output_type": "stream",
     "text": [
      "Primal Feasibility  Dual Feasibility    Duality Gap         Step             Path Parameter      Objective          \n",
      "1.0                 1.0                 1.0                 -                1.0                 506.4464461439      \n",
      "0.1717574295871     0.1717574295871     0.1717574295871     0.8319963473544  0.1717574295871     268.7406800962      \n",
      "0.06638577511012    0.06638577511012    0.06638577511013    0.6490768395258  0.06638577511012    376.5617800918      \n",
      "0.01081199911007    0.01081199911007    0.01081199911007    0.8457086650026  0.01081199911007    156.4483195507      \n",
      "0.006166341998285   0.006166341998284   0.006166341998284   0.4575243211179  0.006166341998284   243.5697308223      \n",
      "0.0005157722017961  0.0005157722018045  0.0005157722018045  0.9303097249242  0.000515772201786   353.933860727       \n",
      "7.752031505593e-08  7.752031505775e-08  7.75203150604e-08   0.9998584908051  7.752031504124e-08  354.2607815932      \n",
      "1.946080900959e-11  1.946080890233e-11  1.946080719987e-11  0.9997489586309  1.946087024423e-11  354.2617797623      \n",
      "Optimization terminated successfully.\n",
      "         Current function value: 354.261780  \n",
      "         Iterations: 7\n",
      "Primal Feasibility  Dual Feasibility    Duality Gap         Step             Path Parameter      Objective          \n",
      "1.0                 1.0                 1.0                 -                1.0                 506.4464461439      \n",
      "0.1079826576654     0.1079826576654     0.1079826576654     0.8981297431247  0.1079826576654     201.9066838728      \n",
      "0.04065945389735    0.04065945389735    0.04065945389735    0.6593890232868  0.04065945389735    434.9407527678      \n",
      "0.01889246737403    0.01889246737403    0.01889246737403    0.5585864512039  0.01889246737403    712.89672687        \n",
      "0.001989080294406   0.001989080294544   0.001989080294544   0.9101975477571  0.001989080294403   1386.629312         \n",
      "2.319895460863e-06  2.319895460686e-06  2.319895460685e-06  0.9988740146777  2.319895460907e-06  1475.934761527      \n",
      "2.151194643564e-10  2.151195269238e-10  2.151195275029e-10  0.9999072718877  2.151195454149e-10  1476.090720108      \n",
      "Optimization terminated successfully.\n",
      "         Current function value: 1476.090720 \n",
      "         Iterations: 6\n"
     ]
    },
    {
     "name": "stderr",
     "output_type": "stream",
     "text": [
      "/Users/alexanderkell/anaconda3/envs/muse/lib/python3.7/site-packages/xarray/core/alignment.py:298: FutureWarning: Index.__or__ operating as a set operation is deprecated, in the future this will be a logical operation matching Series.__or__.  Use index.union(other) instead\n",
      "  index = joiner(matching_indexes)\n",
      "/Users/alexanderkell/anaconda3/envs/muse/lib/python3.7/site-packages/xarray/core/alignment.py:298: FutureWarning: Index.__or__ operating as a set operation is deprecated, in the future this will be a logical operation matching Series.__or__.  Use index.union(other) instead\n",
      "  index = joiner(matching_indexes)\n",
      "/Users/alexanderkell/anaconda3/envs/muse/lib/python3.7/site-packages/xarray/core/alignment.py:298: FutureWarning: Index.__or__ operating as a set operation is deprecated, in the future this will be a logical operation matching Series.__or__.  Use index.union(other) instead\n",
      "  index = joiner(matching_indexes)\n",
      "/Users/alexanderkell/anaconda3/envs/muse/lib/python3.7/site-packages/xarray/core/alignment.py:298: FutureWarning: Index.__or__ operating as a set operation is deprecated, in the future this will be a logical operation matching Series.__or__.  Use index.union(other) instead\n",
      "  index = joiner(matching_indexes)\n"
     ]
    },
    {
     "name": "stdout",
     "output_type": "stream",
     "text": [
      "Primal Feasibility  Dual Feasibility    Duality Gap         Step             Path Parameter      Objective          \n",
      "1.0                 1.0                 1.0                 -                1.0                 889.6273141593      \n",
      "0.06094841228938    0.06094841228938    0.06094841228936    0.9446306809212  0.06094841228938    507.5981904788      \n",
      "0.01403712586707    0.01403712586707    0.01403712586707    0.7774983036922  0.01403712586707    2.560790425915      \n",
      "0.004916790985506   0.004916790985506   0.004916790985504   0.681299063641   0.004916790985506   14.4659902922       \n",
      "0.001087493288617   0.001087493288636   0.001087493288635   0.8126332143683  0.001087493288635   17.14374653731      \n",
      "0.0004935333931193  0.0004935333931281  0.0004935333931279  0.5558253635957  0.0004935333931279  10.54120250855      \n",
      "0.0001121697661327  0.0001121697661353  0.0001121697661352  0.8176433067812  0.0001121697661352  4.989672918589      \n",
      "2.712089125491e-05  2.712089125551e-05  2.712089125551e-05  0.7970501146744  2.712089125551e-05  4.324997090383      \n",
      "1.122718398295e-07  1.12271839905e-07   1.122718399067e-07  0.995975884067   1.122718399052e-07  4.000800852939      \n",
      "5.61515122587e-12   5.615045270793e-12  5.615033922076e-12  0.9999499875766  5.615033842046e-12  3.999950695185      \n",
      "3.02673081693e-16   2.84634460178e-16   2.80788307658e-16   0.9999499995514  2.807864701598e-16  3.99995065266       \n",
      "Optimization terminated successfully.\n",
      "         Current function value: 3.999951    \n",
      "         Iterations: 10\n",
      "Primal Feasibility  Dual Feasibility    Duality Gap         Step             Path Parameter      Objective          \n",
      "1.0                 1.0                 1.0                 -                1.0                 889.6273141593      \n",
      "0.06073185177467    0.06073185177467    0.06073185177465    0.9450179496586  0.06073185177467    760.7133777232      \n",
      "0.006172439565966   0.006172439565966   0.006172439565964   0.8994093979138  0.006172439565966   1.525116036515      \n",
      "0.002290102596849   0.002290102596849   0.002290102596848   0.6678934240021  0.002290102596849   13.23877514046      \n",
      "0.0007463324176682  0.0007463324176676  0.0007463324176673  0.7077017235355  0.0007463324176676  10.8693515852       \n",
      "0.0003923306879672  0.0003923306879668  0.0003923306879667  0.4881145424162  0.0003923306879668  6.236673612228      \n",
      "2.432640261542e-05  2.432640261534e-05  2.432640261533e-05  1.0              2.432640261534e-05  0.3563903988291     \n",
      "6.281868988325e-08  6.281868988982e-08  6.281868988322e-08  0.9991491899822  6.281868988324e-08  0.0001119022046319  \n",
      "3.37831533544e-12   3.378311669936e-12  3.378315418593e-12  0.9999462211736  3.378315418589e-12  6.056706970147e-09  \n",
      "2.306342400962e-13  2.306453539353e-13  2.306342869054e-13  0.9320842097343  2.306342869051e-13  4.595157059773e-10  \n",
      "Optimization terminated successfully.\n",
      "         Current function value: 0.000000    \n",
      "         Iterations: 9\n"
     ]
    },
    {
     "name": "stderr",
     "output_type": "stream",
     "text": [
      "/Users/alexanderkell/anaconda3/envs/muse/lib/python3.7/site-packages/xarray/core/alignment.py:298: FutureWarning: Index.__or__ operating as a set operation is deprecated, in the future this will be a logical operation matching Series.__or__.  Use index.union(other) instead\n",
      "  index = joiner(matching_indexes)\n",
      "/Users/alexanderkell/anaconda3/envs/muse/lib/python3.7/site-packages/xarray/core/alignment.py:298: FutureWarning: Index.__or__ operating as a set operation is deprecated, in the future this will be a logical operation matching Series.__or__.  Use index.union(other) instead\n",
      "  index = joiner(matching_indexes)\n",
      "/Users/alexanderkell/anaconda3/envs/muse/lib/python3.7/site-packages/xarray/core/alignment.py:298: FutureWarning: Index.__or__ operating as a set operation is deprecated, in the future this will be a logical operation matching Series.__or__.  Use index.union(other) instead\n",
      "  index = joiner(matching_indexes)\n",
      "/Users/alexanderkell/anaconda3/envs/muse/lib/python3.7/site-packages/xarray/core/alignment.py:298: FutureWarning: Index.__or__ operating as a set operation is deprecated, in the future this will be a logical operation matching Series.__or__.  Use index.union(other) instead\n",
      "  index = joiner(matching_indexes)\n",
      "/Users/alexanderkell/anaconda3/envs/muse/lib/python3.7/site-packages/xarray/core/alignment.py:298: FutureWarning: Index.__or__ operating as a set operation is deprecated, in the future this will be a logical operation matching Series.__or__.  Use index.union(other) instead\n",
      "  index = joiner(matching_indexes)\n",
      "/Users/alexanderkell/anaconda3/envs/muse/lib/python3.7/site-packages/xarray/core/alignment.py:298: FutureWarning: Index.__or__ operating as a set operation is deprecated, in the future this will be a logical operation matching Series.__or__.  Use index.union(other) instead\n",
      "  index = joiner(matching_indexes)\n",
      "-- 2021-02-12 17:28:24 - muse.mca - WARNING\n",
      "Check growth constraints for wind.\n",
      "\n",
      "/Users/alexanderkell/anaconda3/envs/muse/lib/python3.7/site-packages/xarray/core/alignment.py:298: FutureWarning: Index.__or__ operating as a set operation is deprecated, in the future this will be a logical operation matching Series.__or__.  Use index.union(other) instead\n",
      "  index = joiner(matching_indexes)\n",
      "/Users/alexanderkell/anaconda3/envs/muse/lib/python3.7/site-packages/xarray/core/alignment.py:298: FutureWarning: Index.__or__ operating as a set operation is deprecated, in the future this will be a logical operation matching Series.__or__.  Use index.union(other) instead\n",
      "  index = joiner(matching_indexes)\n"
     ]
    },
    {
     "name": "stdout",
     "output_type": "stream",
     "text": [
      "Primal Feasibility  Dual Feasibility    Duality Gap         Step             Path Parameter      Objective          \n",
      "1.0                 1.0                 1.0                 -                1.0                 568.8949309456      \n",
      "0.1574999940442     0.1574999940442     0.1574999940442     0.8462995490748  0.1574999940442     259.3692323548      \n",
      "0.07523425397009    0.07523425397009    0.07523425397009    0.554772021127   0.07523425397009    453.5904211875      \n",
      "0.01015218722854    0.01015218722854    0.01015218722854    0.883132483591   0.01015218722854    172.5109988077      \n",
      "0.005597873343691   0.005597873343692   0.005597873343692   0.4782155730778  0.005597873343692   257.1812475863      \n",
      "0.0004682435100822  0.0004682435100809  0.0004682435100809  0.9301215087263  0.0004682435100794  357.0084554757      \n",
      "6.611502540271e-08  6.611502541199e-08  6.611502540911e-08  0.9998633858891  6.611502540849e-08  355.7877874357      \n",
      "7.624149448082e-12  7.624151899719e-12  7.624153030154e-12  0.9998846834927  7.624138346394e-12  355.7884668244      \n",
      "Optimization terminated successfully.\n",
      "         Current function value: 355.788467  \n",
      "         Iterations: 7\n",
      "Primal Feasibility  Dual Feasibility    Duality Gap         Step             Path Parameter      Objective          \n",
      "1.0                 1.0                 1.0                 -                1.0                 568.8949309456      \n",
      "0.07655552551912    0.07655552551912    0.07655552551913    0.9326533055578  0.07655552551912    158.9571105268      \n",
      "0.02915610317301    0.02915610317301    0.02915610317301    0.6583861263543  0.02915610317301    366.3114835518      \n",
      "0.01377238842888    0.01377238842888    0.01377238842888    0.5494198952003  0.01377238842888    509.1861842039      \n",
      "0.002113311156705   0.002113311156705   0.002113311156705   0.8672288943464  0.002113311156705   954.4881957416      \n",
      "1.802801624837e-06  1.802801624625e-06  1.802801624622e-06  0.9992160883541  1.802801624638e-06  1007.960178193      \n",
      "1.128204488926e-10  1.128196473835e-10  1.128196549884e-10  0.9999374198243  1.128196706269e-10  1008.067350983      \n",
      "Optimization terminated successfully.\n",
      "         Current function value: 1008.067351 \n",
      "         Iterations: 6\n"
     ]
    },
    {
     "name": "stderr",
     "output_type": "stream",
     "text": [
      "/Users/alexanderkell/anaconda3/envs/muse/lib/python3.7/site-packages/xarray/core/alignment.py:298: FutureWarning: Index.__or__ operating as a set operation is deprecated, in the future this will be a logical operation matching Series.__or__.  Use index.union(other) instead\n",
      "  index = joiner(matching_indexes)\n",
      "/Users/alexanderkell/anaconda3/envs/muse/lib/python3.7/site-packages/xarray/core/alignment.py:298: FutureWarning: Index.__or__ operating as a set operation is deprecated, in the future this will be a logical operation matching Series.__or__.  Use index.union(other) instead\n",
      "  index = joiner(matching_indexes)\n",
      "/Users/alexanderkell/anaconda3/envs/muse/lib/python3.7/site-packages/xarray/core/alignment.py:298: FutureWarning: Index.__or__ operating as a set operation is deprecated, in the future this will be a logical operation matching Series.__or__.  Use index.union(other) instead\n",
      "  index = joiner(matching_indexes)\n",
      "/Users/alexanderkell/anaconda3/envs/muse/lib/python3.7/site-packages/xarray/core/alignment.py:298: FutureWarning: Index.__or__ operating as a set operation is deprecated, in the future this will be a logical operation matching Series.__or__.  Use index.union(other) instead\n",
      "  index = joiner(matching_indexes)\n"
     ]
    },
    {
     "name": "stdout",
     "output_type": "stream",
     "text": [
      "Primal Feasibility  Dual Feasibility    Duality Gap         Step             Path Parameter      Objective          \n",
      "1.0                 1.0                 1.0                 -                1.0                 1027.252465794      \n",
      "0.06092848901521    0.06092848901522    0.06092848901523    0.9446907062507  0.06092848901522    639.5911028222      \n",
      "0.01301865096829    0.01301865096829    0.01301865096829    0.792660010807   0.01301865096829    2.590461755961      \n",
      "0.004565877229283   0.004565877229284   0.004565877229284   0.6815721939622  0.004565877229284   18.42445056576      \n",
      "0.001192620177955   0.001192620177954   0.001192620177955   0.7720888734273  0.001192620177955   21.27663782715      \n",
      "0.000415076278256   0.0004150762782548  0.0004150762782548  0.655123102351   0.0004150762782549  10.9071485496       \n",
      "8.303972079858e-05  8.303972079835e-05  8.303972079835e-05  0.855108837555   8.303972079836e-05  4.883155784927      \n",
      "2.345269716472e-05  2.345269716467e-05  2.345269716467e-05  0.7548298132583  2.345269716467e-05  4.346885094866      \n",
      "1.371159323916e-07  1.371159321238e-07  1.371159321178e-07  0.9943319262711  1.371159321113e-07  4.001183377583      \n",
      "6.859879728478e-12  6.859863766265e-12  6.859865447989e-12  0.9999499722986  6.859864732755e-12  3.999950686434      \n",
      "3.695060797578e-16  3.469719762692e-16  3.430265101783e-16  0.9999499996734  3.430227054562e-16  3.999950624742      \n",
      "Optimization terminated successfully.\n",
      "         Current function value: 3.999951    \n",
      "         Iterations: 10\n",
      "Primal Feasibility  Dual Feasibility    Duality Gap         Step             Path Parameter      Objective          \n",
      "1.0                 1.0                 1.0                 -                1.0                 513.6262328969      \n",
      "0.06112045297154    0.06112045297154    0.06112045297151    0.9426671718798  0.06112045297154    286.961037666       \n",
      "0.0186024953335     0.0186024953335     0.0186024953335     0.7059824756002  0.0186024953335     1.911789377935      \n",
      "0.006446621823764   0.006446621823764   0.006446621823761   0.6910883581126  0.006446621823764   10.97980543166      \n",
      "0.0005501537566661  0.000550153756682   0.0005501537566817  0.9377765193659  0.000550153756682   10.00501917632      \n",
      "4.007383875109e-06  4.007383875254e-06  4.007383875248e-06  0.9951127586033  4.007383875251e-06  6.687770636959      \n",
      "2.007342698947e-10  2.007343604607e-10  2.007343574508e-10  0.999949908881   2.007343572977e-10  6.666585422706      \n",
      "2.758021153785e-13  1.340838916747e-13  1.340901342809e-13  0.9993320025494  1.446646576038e-13  6.666584362215      \n",
      "Optimization terminated successfully.\n",
      "         Current function value: 6.666584    \n",
      "         Iterations: 7\n"
     ]
    },
    {
     "name": "stderr",
     "output_type": "stream",
     "text": [
      "/Users/alexanderkell/anaconda3/envs/muse/lib/python3.7/site-packages/xarray/core/alignment.py:298: FutureWarning: Index.__or__ operating as a set operation is deprecated, in the future this will be a logical operation matching Series.__or__.  Use index.union(other) instead\n",
      "  index = joiner(matching_indexes)\n",
      "/Users/alexanderkell/anaconda3/envs/muse/lib/python3.7/site-packages/xarray/core/alignment.py:298: FutureWarning: Index.__or__ operating as a set operation is deprecated, in the future this will be a logical operation matching Series.__or__.  Use index.union(other) instead\n",
      "  index = joiner(matching_indexes)\n",
      "/Users/alexanderkell/anaconda3/envs/muse/lib/python3.7/site-packages/xarray/core/alignment.py:298: FutureWarning: Index.__or__ operating as a set operation is deprecated, in the future this will be a logical operation matching Series.__or__.  Use index.union(other) instead\n",
      "  index = joiner(matching_indexes)\n",
      "/Users/alexanderkell/anaconda3/envs/muse/lib/python3.7/site-packages/xarray/core/alignment.py:298: FutureWarning: Index.__or__ operating as a set operation is deprecated, in the future this will be a logical operation matching Series.__or__.  Use index.union(other) instead\n",
      "  index = joiner(matching_indexes)\n",
      "/Users/alexanderkell/anaconda3/envs/muse/lib/python3.7/site-packages/xarray/core/alignment.py:298: FutureWarning: Index.__or__ operating as a set operation is deprecated, in the future this will be a logical operation matching Series.__or__.  Use index.union(other) instead\n",
      "  index = joiner(matching_indexes)\n",
      "/Users/alexanderkell/anaconda3/envs/muse/lib/python3.7/site-packages/xarray/core/alignment.py:298: FutureWarning: Index.__or__ operating as a set operation is deprecated, in the future this will be a logical operation matching Series.__or__.  Use index.union(other) instead\n",
      "  index = joiner(matching_indexes)\n",
      "-- 2021-02-12 17:28:27 - muse.mca - WARNING\n",
      "Check growth constraints for wind.\n",
      "\n",
      "/Users/alexanderkell/anaconda3/envs/muse/lib/python3.7/site-packages/xarray/core/alignment.py:298: FutureWarning: Index.__or__ operating as a set operation is deprecated, in the future this will be a logical operation matching Series.__or__.  Use index.union(other) instead\n",
      "  index = joiner(matching_indexes)\n",
      "/Users/alexanderkell/anaconda3/envs/muse/lib/python3.7/site-packages/xarray/core/alignment.py:298: FutureWarning: Index.__or__ operating as a set operation is deprecated, in the future this will be a logical operation matching Series.__or__.  Use index.union(other) instead\n",
      "  index = joiner(matching_indexes)\n"
     ]
    },
    {
     "name": "stdout",
     "output_type": "stream",
     "text": [
      "Primal Feasibility  Dual Feasibility    Duality Gap         Step             Path Parameter      Objective          \n",
      "1.0                 1.0                 1.0                 -                1.0                 568.8949309456      \n",
      "0.1574999940442     0.1574999940442     0.1574999940442     0.8462995490748  0.1574999940442     259.3692323548      \n",
      "0.07523425397009    0.07523425397009    0.07523425397009    0.554772021127   0.07523425397009    453.5904211875      \n",
      "0.01015218722854    0.01015218722854    0.01015218722854    0.883132483591   0.01015218722854    172.5109988077      \n",
      "0.005597873343691   0.005597873343692   0.005597873343692   0.4782155730778  0.005597873343692   257.1812475863      \n",
      "0.0004682435100822  0.0004682435100809  0.0004682435100809  0.9301215087263  0.0004682435100794  357.0084554757      \n",
      "6.611502540271e-08  6.611502541199e-08  6.611502540911e-08  0.9998633858891  6.611502540849e-08  355.7877874357      \n",
      "7.624149448082e-12  7.624151899719e-12  7.624153030154e-12  0.9998846834927  7.624138346394e-12  355.7884668244      \n",
      "Optimization terminated successfully.\n",
      "         Current function value: 355.788467  \n",
      "         Iterations: 7\n",
      "Primal Feasibility  Dual Feasibility    Duality Gap         Step             Path Parameter      Objective          \n",
      "1.0                 1.0                 1.0                 -                1.0                 568.8949309456      \n",
      "0.07655552551912    0.07655552551912    0.07655552551913    0.9326533055578  0.07655552551912    158.9571105268      \n",
      "0.02915610317301    0.02915610317301    0.02915610317301    0.6583861263543  0.02915610317301    366.3114835518      \n",
      "0.01377238842888    0.01377238842888    0.01377238842888    0.5494198952003  0.01377238842888    509.1861842039      \n",
      "0.002113311156705   0.002113311156705   0.002113311156705   0.8672288943464  0.002113311156705   954.4881957416      \n",
      "1.802801624837e-06  1.802801624625e-06  1.802801624622e-06  0.9992160883541  1.802801624638e-06  1007.960178193      \n",
      "1.128204488926e-10  1.128196473835e-10  1.128196549884e-10  0.9999374198243  1.128196706269e-10  1008.067350983      \n",
      "Optimization terminated successfully.\n",
      "         Current function value: 1008.067351 \n",
      "         Iterations: 6\n"
     ]
    },
    {
     "name": "stderr",
     "output_type": "stream",
     "text": [
      "/Users/alexanderkell/anaconda3/envs/muse/lib/python3.7/site-packages/xarray/core/alignment.py:298: FutureWarning: Index.__or__ operating as a set operation is deprecated, in the future this will be a logical operation matching Series.__or__.  Use index.union(other) instead\n",
      "  index = joiner(matching_indexes)\n",
      "/Users/alexanderkell/anaconda3/envs/muse/lib/python3.7/site-packages/xarray/core/alignment.py:298: FutureWarning: Index.__or__ operating as a set operation is deprecated, in the future this will be a logical operation matching Series.__or__.  Use index.union(other) instead\n",
      "  index = joiner(matching_indexes)\n",
      "/Users/alexanderkell/anaconda3/envs/muse/lib/python3.7/site-packages/xarray/core/alignment.py:298: FutureWarning: Index.__or__ operating as a set operation is deprecated, in the future this will be a logical operation matching Series.__or__.  Use index.union(other) instead\n",
      "  index = joiner(matching_indexes)\n",
      "/Users/alexanderkell/anaconda3/envs/muse/lib/python3.7/site-packages/xarray/core/alignment.py:298: FutureWarning: Index.__or__ operating as a set operation is deprecated, in the future this will be a logical operation matching Series.__or__.  Use index.union(other) instead\n",
      "  index = joiner(matching_indexes)\n"
     ]
    },
    {
     "name": "stdout",
     "output_type": "stream",
     "text": [
      "Primal Feasibility  Dual Feasibility    Duality Gap         Step             Path Parameter      Objective          \n",
      "1.0                 1.0                 1.0                 -                1.0                 1027.252465794      \n",
      "0.06092848901521    0.06092848901522    0.06092848901523    0.9446907062507  0.06092848901522    639.5911028222      \n",
      "0.01301865096829    0.01301865096829    0.01301865096829    0.792660010807   0.01301865096829    2.590461755961      \n",
      "0.004565877229283   0.004565877229284   0.004565877229284   0.6815721939622  0.004565877229284   18.42445056576      \n",
      "0.001192620177955   0.001192620177954   0.001192620177955   0.7720888734273  0.001192620177955   21.27663782715      \n",
      "0.000415076278256   0.0004150762782548  0.0004150762782548  0.655123102351   0.0004150762782549  10.9071485496       \n",
      "8.303972079858e-05  8.303972079835e-05  8.303972079835e-05  0.855108837555   8.303972079836e-05  4.883155784927      \n",
      "2.345269716472e-05  2.345269716467e-05  2.345269716467e-05  0.7548298132583  2.345269716467e-05  4.346885094866      \n",
      "1.371159323916e-07  1.371159321238e-07  1.371159321178e-07  0.9943319262711  1.371159321113e-07  4.001183377583      \n",
      "6.859879728478e-12  6.859863766265e-12  6.859865447989e-12  0.9999499722986  6.859864732755e-12  3.999950686434      \n",
      "3.695060797578e-16  3.469719762692e-16  3.430265101783e-16  0.9999499996734  3.430227054562e-16  3.999950624742      \n",
      "Optimization terminated successfully.\n",
      "         Current function value: 3.999951    \n",
      "         Iterations: 10\n",
      "Primal Feasibility  Dual Feasibility    Duality Gap         Step             Path Parameter      Objective          \n",
      "1.0                 1.0                 1.0                 -                1.0                 513.6262328969      \n",
      "0.06112045297154    0.06112045297154    0.06112045297151    0.9426671718798  0.06112045297154    286.961037666       \n",
      "0.0186024953335     0.0186024953335     0.0186024953335     0.7059824756002  0.0186024953335     1.911789377935      \n",
      "0.006446621823764   0.006446621823764   0.006446621823761   0.6910883581126  0.006446621823764   10.97980543166      \n",
      "0.0005501537566661  0.000550153756682   0.0005501537566817  0.9377765193659  0.000550153756682   10.00501917632      \n",
      "4.007383875109e-06  4.007383875254e-06  4.007383875248e-06  0.9951127586033  4.007383875251e-06  6.687770636959      \n",
      "2.007342698947e-10  2.007343604607e-10  2.007343574508e-10  0.999949908881   2.007343572977e-10  6.666585422706      \n",
      "2.758021153785e-13  1.340838916747e-13  1.340901342809e-13  0.9993320025494  1.446646576038e-13  6.666584362215      \n",
      "Optimization terminated successfully.\n",
      "         Current function value: 6.666584    \n",
      "         Iterations: 7\n"
     ]
    },
    {
     "name": "stderr",
     "output_type": "stream",
     "text": [
      "/Users/alexanderkell/anaconda3/envs/muse/lib/python3.7/site-packages/xarray/core/alignment.py:298: FutureWarning: Index.__or__ operating as a set operation is deprecated, in the future this will be a logical operation matching Series.__or__.  Use index.union(other) instead\n",
      "  index = joiner(matching_indexes)\n",
      "/Users/alexanderkell/anaconda3/envs/muse/lib/python3.7/site-packages/xarray/core/alignment.py:298: FutureWarning: Index.__or__ operating as a set operation is deprecated, in the future this will be a logical operation matching Series.__or__.  Use index.union(other) instead\n",
      "  index = joiner(matching_indexes)\n",
      "/Users/alexanderkell/anaconda3/envs/muse/lib/python3.7/site-packages/xarray/core/alignment.py:298: FutureWarning: Index.__or__ operating as a set operation is deprecated, in the future this will be a logical operation matching Series.__or__.  Use index.union(other) instead\n",
      "  index = joiner(matching_indexes)\n",
      "/Users/alexanderkell/anaconda3/envs/muse/lib/python3.7/site-packages/xarray/core/alignment.py:298: FutureWarning: Index.__or__ operating as a set operation is deprecated, in the future this will be a logical operation matching Series.__or__.  Use index.union(other) instead\n",
      "  index = joiner(matching_indexes)\n",
      "/Users/alexanderkell/anaconda3/envs/muse/lib/python3.7/site-packages/xarray/core/alignment.py:298: FutureWarning: Index.__or__ operating as a set operation is deprecated, in the future this will be a logical operation matching Series.__or__.  Use index.union(other) instead\n",
      "  index = joiner(matching_indexes)\n",
      "/Users/alexanderkell/anaconda3/envs/muse/lib/python3.7/site-packages/xarray/core/alignment.py:298: FutureWarning: Index.__or__ operating as a set operation is deprecated, in the future this will be a logical operation matching Series.__or__.  Use index.union(other) instead\n",
      "  index = joiner(matching_indexes)\n",
      "-- 2021-02-12 17:28:31 - muse.mca - WARNING\n",
      "Check growth constraints for wind.\n",
      "\n",
      "/Users/alexanderkell/anaconda3/envs/muse/lib/python3.7/site-packages/xarray/core/alignment.py:298: FutureWarning: Index.__or__ operating as a set operation is deprecated, in the future this will be a logical operation matching Series.__or__.  Use index.union(other) instead\n",
      "  index = joiner(matching_indexes)\n",
      "/Users/alexanderkell/anaconda3/envs/muse/lib/python3.7/site-packages/xarray/core/alignment.py:298: FutureWarning: Index.__or__ operating as a set operation is deprecated, in the future this will be a logical operation matching Series.__or__.  Use index.union(other) instead\n",
      "  index = joiner(matching_indexes)\n"
     ]
    },
    {
     "name": "stdout",
     "output_type": "stream",
     "text": [
      "Primal Feasibility  Dual Feasibility    Duality Gap         Step             Path Parameter      Objective          \n",
      "1.0                 1.0                 1.0                 -                1.0                 647.4402248427      \n",
      "0.1042702415875     0.1042702415875     0.1042702415875     0.904465190412   0.1042702415875     197.7436067627      \n",
      "0.04330783920889    0.04330783920889    0.04330783920889    0.6213338929277  0.04330783920889    554.8458693576      \n",
      "0.02029339906325    0.02029339906325    0.02029339906325    0.5546164251104  0.02029339906325    887.503417656       \n",
      "0.002059630008902   0.002059630008927   0.002059630008927   0.9123945706883  0.002059630008821   1773.49730743       \n",
      "1.961648545151e-06  1.961648545995e-06  1.961648546005e-06  0.9995475314269  1.961648545868e-06  1899.795954596      \n",
      "1.19146232329e-10   1.191462554268e-10  1.19146263857e-10   0.9999392621802  1.191460781468e-10  1900.055706879      \n",
      "Optimization terminated successfully.\n",
      "         Current function value: 1900.055707 \n",
      "         Iterations: 6\n"
     ]
    },
    {
     "name": "stderr",
     "output_type": "stream",
     "text": [
      "/Users/alexanderkell/anaconda3/envs/muse/lib/python3.7/site-packages/xarray/core/alignment.py:298: FutureWarning: Index.__or__ operating as a set operation is deprecated, in the future this will be a logical operation matching Series.__or__.  Use index.union(other) instead\n",
      "  index = joiner(matching_indexes)\n",
      "/Users/alexanderkell/anaconda3/envs/muse/lib/python3.7/site-packages/xarray/core/alignment.py:298: FutureWarning: Index.__or__ operating as a set operation is deprecated, in the future this will be a logical operation matching Series.__or__.  Use index.union(other) instead\n",
      "  index = joiner(matching_indexes)\n",
      "/Users/alexanderkell/anaconda3/envs/muse/lib/python3.7/site-packages/xarray/core/alignment.py:298: FutureWarning: Index.__or__ operating as a set operation is deprecated, in the future this will be a logical operation matching Series.__or__.  Use index.union(other) instead\n",
      "  index = joiner(matching_indexes)\n",
      "/Users/alexanderkell/anaconda3/envs/muse/lib/python3.7/site-packages/xarray/core/alignment.py:298: FutureWarning: Index.__or__ operating as a set operation is deprecated, in the future this will be a logical operation matching Series.__or__.  Use index.union(other) instead\n",
      "  index = joiner(matching_indexes)\n"
     ]
    },
    {
     "name": "stdout",
     "output_type": "stream",
     "text": [
      "Primal Feasibility  Dual Feasibility    Duality Gap         Step             Path Parameter      Objective          \n",
      "1.0                 1.0                 1.0                 -                1.0                 1199.542590081      \n",
      "0.06080970203686    0.06080970203686    0.06080970203688    0.9448463893022  0.06080970203686    802.3521760544      \n",
      "0.01206790508617    0.01206790508617    0.01206790508617    0.806714888189   0.01206790508617    2.242531350208      \n",
      "0.0042353040095     0.0042353040095     0.004235304009502   0.6829892140297  0.0042353040095     22.93309435175      \n",
      "0.001076107298276   0.001076107298268   0.001076107298269   0.7811880414727  0.001076107298269   27.34472817148      \n",
      "0.000138146702678   0.000138146702677   0.000138146702677   0.9534954297479  0.000138146702677   2.1644747336        \n",
      "0.0001283068197888  0.0001283068197878  0.0001283068197879  0.0728027859926  0.0001283068197879  2.011755771228      \n",
      "1.709535381358e-06  1.709535381323e-06  1.709535381333e-06  0.9870423816049  1.709535381332e-06  0.04804313570909    \n",
      "9.545159687889e-11  9.545160620785e-11  9.545160268649e-11  0.9999442440062  9.545160268649e-11  2.68124548169e-06   \n",
      "9.088763279662e-12  9.088752420251e-12  9.088757134864e-12  0.906313240564   9.088757134864e-12  2.555815501972e-07  \n",
      "8.612095763033e-12  8.612086009417e-12  8.612088426129e-12  0.05774486824998 8.612088426128e-12  2.431912471795e-07  \n",
      "1.047839696158e-12  1.047846394866e-12  1.047842973942e-12  0.8805627875843  1.047842973941e-12  3.041950732307e-08  \n",
      "7.784148621203e-13  7.784219951888e-13  7.784166773393e-13  0.2784340876714  7.784166773393e-13  2.340645896161e-08  \n",
      "2.232455688316e-13  2.232472129735e-13  2.232451121465e-13  0.7280027420952  2.232451121465e-13  9.431341891224e-09  \n",
      "Optimization terminated successfully.\n",
      "         Current function value: 0.000000    \n",
      "         Iterations: 13\n",
      "Primal Feasibility  Dual Feasibility    Duality Gap         Step             Path Parameter      Objective          \n",
      "1.0                 1.0                 1.0                 -                1.0                 599.7712950406      \n",
      "0.06108522397876    0.06108522397876    0.06108522397879    0.9426921917134  0.06108522397876    370.5338700194      \n",
      "0.01718424163886    0.01718424163886    0.01718424163887    0.7269400839049  0.01718424163886    1.816590685555      \n",
      "0.006448030539536   0.006448030539536   0.006448030539539   0.6618055567732  0.006448030539536   13.3323395461       \n",
      "0.0007451641814778  0.0007451641814671  0.0007451641814674  0.9128367303908  0.0007451641814671  13.46011423954      \n",
      "0.0002051849845439  0.0002051849845419  0.000205184984542   0.7262482317588  0.0002051849845418  8.092503307237      \n",
      "3.421589512271e-06  3.421589512443e-06  3.421589512442e-06  1.0              3.421589512432e-06  5.943322693388      \n",
      "2.883371559487e-10  2.883372067959e-10  2.883372104304e-10  0.9999160051459  2.883372103278e-10  5.933260701878      \n",
      "1.446757714671e-14  1.441032700759e-14  1.441746516044e-14  0.9999499977045  1.441705316857e-14  5.93326007282       \n",
      "Optimization terminated successfully.\n",
      "         Current function value: 5.933260    \n",
      "         Iterations: 8\n"
     ]
    },
    {
     "name": "stderr",
     "output_type": "stream",
     "text": [
      "/Users/alexanderkell/anaconda3/envs/muse/lib/python3.7/site-packages/xarray/core/alignment.py:298: FutureWarning: Index.__or__ operating as a set operation is deprecated, in the future this will be a logical operation matching Series.__or__.  Use index.union(other) instead\n",
      "  index = joiner(matching_indexes)\n",
      "/Users/alexanderkell/anaconda3/envs/muse/lib/python3.7/site-packages/xarray/core/alignment.py:298: FutureWarning: Index.__or__ operating as a set operation is deprecated, in the future this will be a logical operation matching Series.__or__.  Use index.union(other) instead\n",
      "  index = joiner(matching_indexes)\n",
      "/Users/alexanderkell/anaconda3/envs/muse/lib/python3.7/site-packages/xarray/core/alignment.py:298: FutureWarning: Index.__or__ operating as a set operation is deprecated, in the future this will be a logical operation matching Series.__or__.  Use index.union(other) instead\n",
      "  index = joiner(matching_indexes)\n",
      "/Users/alexanderkell/anaconda3/envs/muse/lib/python3.7/site-packages/xarray/core/alignment.py:298: FutureWarning: Index.__or__ operating as a set operation is deprecated, in the future this will be a logical operation matching Series.__or__.  Use index.union(other) instead\n",
      "  index = joiner(matching_indexes)\n",
      "/Users/alexanderkell/anaconda3/envs/muse/lib/python3.7/site-packages/xarray/core/alignment.py:298: FutureWarning: Index.__or__ operating as a set operation is deprecated, in the future this will be a logical operation matching Series.__or__.  Use index.union(other) instead\n",
      "  index = joiner(matching_indexes)\n",
      "/Users/alexanderkell/anaconda3/envs/muse/lib/python3.7/site-packages/xarray/core/alignment.py:298: FutureWarning: Index.__or__ operating as a set operation is deprecated, in the future this will be a logical operation matching Series.__or__.  Use index.union(other) instead\n",
      "  index = joiner(matching_indexes)\n",
      "-- 2021-02-12 17:28:34 - muse.mca - WARNING\n",
      "Check growth constraints for wind.\n",
      "\n",
      "/Users/alexanderkell/anaconda3/envs/muse/lib/python3.7/site-packages/xarray/core/alignment.py:298: FutureWarning: Index.__or__ operating as a set operation is deprecated, in the future this will be a logical operation matching Series.__or__.  Use index.union(other) instead\n",
      "  index = joiner(matching_indexes)\n",
      "/Users/alexanderkell/anaconda3/envs/muse/lib/python3.7/site-packages/xarray/core/alignment.py:298: FutureWarning: Index.__or__ operating as a set operation is deprecated, in the future this will be a logical operation matching Series.__or__.  Use index.union(other) instead\n",
      "  index = joiner(matching_indexes)\n"
     ]
    },
    {
     "name": "stdout",
     "output_type": "stream",
     "text": [
      "Primal Feasibility  Dual Feasibility    Duality Gap         Step             Path Parameter      Objective          \n",
      "1.0                 1.0                 1.0                 -                1.0                 647.4402248427      \n",
      "0.1042702415875     0.1042702415875     0.1042702415875     0.904465190412   0.1042702415875     197.7436067627      \n",
      "0.04330783920889    0.04330783920889    0.04330783920889    0.6213338929277  0.04330783920889    554.8458693576      \n",
      "0.02029339906325    0.02029339906325    0.02029339906325    0.5546164251104  0.02029339906325    887.503417656       \n",
      "0.002059630008902   0.002059630008927   0.002059630008927   0.9123945706883  0.002059630008821   1773.49730743       \n",
      "1.961648545151e-06  1.961648545995e-06  1.961648546005e-06  0.9995475314269  1.961648545868e-06  1899.795954596      \n",
      "1.19146232329e-10   1.191462554268e-10  1.19146263857e-10   0.9999392621802  1.191460781468e-10  1900.055706879      \n",
      "Optimization terminated successfully.\n",
      "         Current function value: 1900.055707 \n",
      "         Iterations: 6\n"
     ]
    },
    {
     "name": "stderr",
     "output_type": "stream",
     "text": [
      "/Users/alexanderkell/anaconda3/envs/muse/lib/python3.7/site-packages/xarray/core/alignment.py:298: FutureWarning: Index.__or__ operating as a set operation is deprecated, in the future this will be a logical operation matching Series.__or__.  Use index.union(other) instead\n",
      "  index = joiner(matching_indexes)\n",
      "/Users/alexanderkell/anaconda3/envs/muse/lib/python3.7/site-packages/xarray/core/alignment.py:298: FutureWarning: Index.__or__ operating as a set operation is deprecated, in the future this will be a logical operation matching Series.__or__.  Use index.union(other) instead\n",
      "  index = joiner(matching_indexes)\n",
      "/Users/alexanderkell/anaconda3/envs/muse/lib/python3.7/site-packages/xarray/core/alignment.py:298: FutureWarning: Index.__or__ operating as a set operation is deprecated, in the future this will be a logical operation matching Series.__or__.  Use index.union(other) instead\n",
      "  index = joiner(matching_indexes)\n",
      "/Users/alexanderkell/anaconda3/envs/muse/lib/python3.7/site-packages/xarray/core/alignment.py:298: FutureWarning: Index.__or__ operating as a set operation is deprecated, in the future this will be a logical operation matching Series.__or__.  Use index.union(other) instead\n",
      "  index = joiner(matching_indexes)\n"
     ]
    },
    {
     "name": "stdout",
     "output_type": "stream",
     "text": [
      "Primal Feasibility  Dual Feasibility    Duality Gap         Step             Path Parameter      Objective          \n",
      "1.0                 1.0                 1.0                 -                1.0                 1199.542590081      \n",
      "0.06080970203686    0.06080970203686    0.06080970203688    0.9448463893022  0.06080970203686    802.3521760544      \n",
      "0.01206790508617    0.01206790508617    0.01206790508617    0.806714888189   0.01206790508617    2.242531350208      \n",
      "0.0042353040095     0.0042353040095     0.004235304009502   0.6829892140297  0.0042353040095     22.93309435175      \n",
      "0.001076107298276   0.001076107298268   0.001076107298269   0.7811880414727  0.001076107298269   27.34472817148      \n",
      "0.000138146702678   0.000138146702677   0.000138146702677   0.9534954297479  0.000138146702677   2.1644747336        \n",
      "0.0001283068197888  0.0001283068197878  0.0001283068197879  0.0728027859926  0.0001283068197879  2.011755771228      \n",
      "1.709535381358e-06  1.709535381323e-06  1.709535381333e-06  0.9870423816049  1.709535381332e-06  0.04804313570909    \n",
      "9.545159687889e-11  9.545160620785e-11  9.545160268649e-11  0.9999442440062  9.545160268649e-11  2.68124548169e-06   \n",
      "9.088763279662e-12  9.088752420251e-12  9.088757134864e-12  0.906313240564   9.088757134864e-12  2.555815501972e-07  \n",
      "8.612095763033e-12  8.612086009417e-12  8.612088426129e-12  0.05774486824998 8.612088426128e-12  2.431912471795e-07  \n",
      "1.047839696158e-12  1.047846394866e-12  1.047842973942e-12  0.8805627875843  1.047842973941e-12  3.041950732307e-08  \n",
      "7.784148621203e-13  7.784219951888e-13  7.784166773393e-13  0.2784340876714  7.784166773393e-13  2.340645896161e-08  \n",
      "2.232455688316e-13  2.232472129735e-13  2.232451121465e-13  0.7280027420952  2.232451121465e-13  9.431341891224e-09  \n",
      "Optimization terminated successfully.\n",
      "         Current function value: 0.000000    \n",
      "         Iterations: 13\n",
      "Primal Feasibility  Dual Feasibility    Duality Gap         Step             Path Parameter      Objective          \n",
      "1.0                 1.0                 1.0                 -                1.0                 599.7712950406      \n",
      "0.06108522397876    0.06108522397876    0.06108522397879    0.9426921917134  0.06108522397876    370.5338700194      \n",
      "0.01718424163886    0.01718424163886    0.01718424163887    0.7269400839049  0.01718424163886    1.816590685555      \n",
      "0.006448030539536   0.006448030539536   0.006448030539539   0.6618055567732  0.006448030539536   13.3323395461       \n",
      "0.0007451641814778  0.0007451641814671  0.0007451641814674  0.9128367303908  0.0007451641814671  13.46011423954      \n",
      "0.0002051849845439  0.0002051849845419  0.000205184984542   0.7262482317588  0.0002051849845418  8.092503307237      \n",
      "3.421589512271e-06  3.421589512443e-06  3.421589512442e-06  1.0              3.421589512432e-06  5.943322693388      \n",
      "2.883371559487e-10  2.883372067959e-10  2.883372104304e-10  0.9999160051459  2.883372103278e-10  5.933260701878      \n",
      "1.446757714671e-14  1.441032700759e-14  1.441746516044e-14  0.9999499977045  1.441705316857e-14  5.93326007282       \n",
      "Optimization terminated successfully.\n",
      "         Current function value: 5.933260    \n",
      "         Iterations: 8\n"
     ]
    },
    {
     "name": "stderr",
     "output_type": "stream",
     "text": [
      "/Users/alexanderkell/anaconda3/envs/muse/lib/python3.7/site-packages/xarray/core/alignment.py:298: FutureWarning: Index.__or__ operating as a set operation is deprecated, in the future this will be a logical operation matching Series.__or__.  Use index.union(other) instead\n",
      "  index = joiner(matching_indexes)\n",
      "/Users/alexanderkell/anaconda3/envs/muse/lib/python3.7/site-packages/xarray/core/alignment.py:298: FutureWarning: Index.__or__ operating as a set operation is deprecated, in the future this will be a logical operation matching Series.__or__.  Use index.union(other) instead\n",
      "  index = joiner(matching_indexes)\n",
      "/Users/alexanderkell/anaconda3/envs/muse/lib/python3.7/site-packages/xarray/core/alignment.py:298: FutureWarning: Index.__or__ operating as a set operation is deprecated, in the future this will be a logical operation matching Series.__or__.  Use index.union(other) instead\n",
      "  index = joiner(matching_indexes)\n",
      "/Users/alexanderkell/anaconda3/envs/muse/lib/python3.7/site-packages/xarray/core/alignment.py:298: FutureWarning: Index.__or__ operating as a set operation is deprecated, in the future this will be a logical operation matching Series.__or__.  Use index.union(other) instead\n",
      "  index = joiner(matching_indexes)\n",
      "/Users/alexanderkell/anaconda3/envs/muse/lib/python3.7/site-packages/xarray/core/alignment.py:298: FutureWarning: Index.__or__ operating as a set operation is deprecated, in the future this will be a logical operation matching Series.__or__.  Use index.union(other) instead\n",
      "  index = joiner(matching_indexes)\n",
      "/Users/alexanderkell/anaconda3/envs/muse/lib/python3.7/site-packages/xarray/core/alignment.py:298: FutureWarning: Index.__or__ operating as a set operation is deprecated, in the future this will be a logical operation matching Series.__or__.  Use index.union(other) instead\n",
      "  index = joiner(matching_indexes)\n",
      "-- 2021-02-12 17:28:37 - muse.mca - WARNING\n",
      "Check growth constraints for wind.\n",
      "\n"
     ]
    }
   ],
   "source": [
    "logging.getLogger(\"muse\").setLevel(0)\n",
    "mca = MCA.factory(\"/Users/alexanderkell/Documents/SGI/Projects/6-Platform-MockUp/Proposal/default/settings.toml\")\n",
    "mca.run();"
   ]
  },
  {
   "cell_type": "markdown",
   "metadata": {},
   "source": [
    "# Results visualisation\n",
    "\n",
    "Just some graphics such as the following would suffice for now. Maybe a drop-down menu which allows one to choose between a line plot and bar plot\n",
    "\n",
    "Here is a legacy visualisation dashboard of MUSE:\n",
    "http://www.museenergysimulator.co.uk"
   ]
  },
  {
   "cell_type": "code",
   "execution_count": 9,
   "metadata": {},
   "outputs": [
    {
     "data": {
      "text/html": [
       "<div>\n",
       "<style scoped>\n",
       "    .dataframe tbody tr th:only-of-type {\n",
       "        vertical-align: middle;\n",
       "    }\n",
       "\n",
       "    .dataframe tbody tr th {\n",
       "        vertical-align: top;\n",
       "    }\n",
       "\n",
       "    .dataframe thead th {\n",
       "        text-align: right;\n",
       "    }\n",
       "</style>\n",
       "<table border=\"1\" class=\"dataframe\">\n",
       "  <thead>\n",
       "    <tr style=\"text-align: right;\">\n",
       "      <th></th>\n",
       "      <th>technology</th>\n",
       "      <th>region</th>\n",
       "      <th>agent</th>\n",
       "      <th>type</th>\n",
       "      <th>sector</th>\n",
       "      <th>capacity</th>\n",
       "      <th>year</th>\n",
       "    </tr>\n",
       "  </thead>\n",
       "  <tbody>\n",
       "    <tr>\n",
       "      <th>0</th>\n",
       "      <td>gasboiler</td>\n",
       "      <td>R1</td>\n",
       "      <td>A1</td>\n",
       "      <td>retrofit</td>\n",
       "      <td>residential</td>\n",
       "      <td>10.0</td>\n",
       "      <td>2020</td>\n",
       "    </tr>\n",
       "    <tr>\n",
       "      <th>1</th>\n",
       "      <td>gasCCGT</td>\n",
       "      <td>R1</td>\n",
       "      <td>A1</td>\n",
       "      <td>retrofit</td>\n",
       "      <td>power</td>\n",
       "      <td>1.0</td>\n",
       "      <td>2020</td>\n",
       "    </tr>\n",
       "    <tr>\n",
       "      <th>2</th>\n",
       "      <td>gassupply1</td>\n",
       "      <td>R1</td>\n",
       "      <td>A1</td>\n",
       "      <td>retrofit</td>\n",
       "      <td>gas</td>\n",
       "      <td>15.0</td>\n",
       "      <td>2020</td>\n",
       "    </tr>\n",
       "    <tr>\n",
       "      <th>3</th>\n",
       "      <td>gasboiler</td>\n",
       "      <td>R1</td>\n",
       "      <td>A1</td>\n",
       "      <td>retrofit</td>\n",
       "      <td>residential</td>\n",
       "      <td>5.0</td>\n",
       "      <td>2025</td>\n",
       "    </tr>\n",
       "    <tr>\n",
       "      <th>4</th>\n",
       "      <td>heatpump</td>\n",
       "      <td>R1</td>\n",
       "      <td>A1</td>\n",
       "      <td>retrofit</td>\n",
       "      <td>residential</td>\n",
       "      <td>19.0</td>\n",
       "      <td>2025</td>\n",
       "    </tr>\n",
       "  </tbody>\n",
       "</table>\n",
       "</div>"
      ],
      "text/plain": [
       "   technology region agent      type       sector  capacity  year\n",
       "0   gasboiler     R1    A1  retrofit  residential      10.0  2020\n",
       "1     gasCCGT     R1    A1  retrofit        power       1.0  2020\n",
       "2  gassupply1     R1    A1  retrofit          gas      15.0  2020\n",
       "3   gasboiler     R1    A1  retrofit  residential       5.0  2025\n",
       "4    heatpump     R1    A1  retrofit  residential      19.0  2025"
      ]
     },
     "execution_count": 9,
     "metadata": {},
     "output_type": "execute_result"
    }
   ],
   "source": [
    "MCACapacity = pd.read_csv(\"/Users/alexanderkell/Documents/SGI/Projects/6-Platform-MockUp/Proposal/Results/MCACapacity.csv\")\n",
    "MCACapacity.head()"
   ]
  },
  {
   "cell_type": "code",
   "execution_count": 10,
   "metadata": {},
   "outputs": [
    {
     "name": "stdout",
     "output_type": "stream",
     "text": [
      "gas\n"
     ]
    },
    {
     "data": {
      "image/png": "[encoded data removed]",
      "text/plain": [
       "<Figure size 432x288 with 1 Axes>"
      ]
     },
     "metadata": {
      "needs_background": "light"
     },
     "output_type": "display_data"
    },
    {
     "name": "stdout",
     "output_type": "stream",
     "text": [
      "power\n"
     ]
    },
    {
     "data": {
      "image/png": "[encoded data removed]",
      "text/plain": [
       "<Figure size 432x288 with 1 Axes>"
      ]
     },
     "metadata": {
      "needs_background": "light"
     },
     "output_type": "display_data"
    },
    {
     "name": "stdout",
     "output_type": "stream",
     "text": [
      "residential\n"
     ]
    },
    {
     "data": {
      "image/png": "[encoded data removed]",
      "text/plain": [
       "<Figure size 432x288 with 1 Axes>"
      ]
     },
     "metadata": {
      "needs_background": "light"
     },
     "output_type": "display_data"
    }
   ],
   "source": [
    "for group in MCACapacity.groupby(\"sector\"):\n",
    "    print(group[0])\n",
    "    sns.lineplot(data=group[1], x=\"year\", y=\"capacity\", hue=\"technology\")\n",
    "    plt.show()\n",
    "    plt.close()"
   ]
  },
  {
   "cell_type": "code",
   "execution_count": 18,
   "metadata": {},
   "outputs": [
    {
     "name": "stdout",
     "output_type": "stream",
     "text": [
      "gas\n"
     ]
    },
    {
     "data": {
      "image/png": "[encoded data removed]",
      "text/plain": [
       "<Figure size 432x288 with 1 Axes>"
      ]
     },
     "metadata": {
      "needs_background": "light"
     },
     "output_type": "display_data"
    },
    {
     "name": "stdout",
     "output_type": "stream",
     "text": [
      "power\n"
     ]
    },
    {
     "data": {
      "image/png": "[encoded data removed]",
      "text/plain": [
       "<Figure size 432x288 with 1 Axes>"
      ]
     },
     "metadata": {
      "needs_background": "light"
     },
     "output_type": "display_data"
    },
    {
     "name": "stdout",
     "output_type": "stream",
     "text": [
      "residential\n"
     ]
    },
    {
     "data": {
      "image/png": "[encoded data removed]",
      "text/plain": [
       "<Figure size 432x288 with 1 Axes>"
      ]
     },
     "metadata": {
      "needs_background": "light"
     },
     "output_type": "display_data"
    }
   ],
   "source": [
    "for group in MCACapacity.groupby(\"sector\"):\n",
    "    print(group[0])\n",
    "    sns.barplot(data=group[1], x=\"year\", y=\"capacity\", hue=\"technology\")\n",
    "    plt.show()\n",
    "    plt.close()"
   ]
  },
  {
   "cell_type": "code",
   "execution_count": 14,
   "metadata": {},
   "outputs": [
    {
     "data": {
      "text/html": [
       "<div>\n",
       "<style scoped>\n",
       "    .dataframe tbody tr th:only-of-type {\n",
       "        vertical-align: middle;\n",
       "    }\n",
       "\n",
       "    .dataframe tbody tr th {\n",
       "        vertical-align: top;\n",
       "    }\n",
       "\n",
       "    .dataframe thead th {\n",
       "        text-align: right;\n",
       "    }\n",
       "</style>\n",
       "<table border=\"1\" class=\"dataframe\">\n",
       "  <thead>\n",
       "    <tr style=\"text-align: right;\">\n",
       "      <th></th>\n",
       "      <th>timeslice</th>\n",
       "      <th>commodity</th>\n",
       "      <th>region</th>\n",
       "      <th>prices</th>\n",
       "      <th>year</th>\n",
       "    </tr>\n",
       "  </thead>\n",
       "  <tbody>\n",
       "    <tr>\n",
       "      <th>0</th>\n",
       "      <td>('all-year', 'all-week', 'night')</td>\n",
       "      <td>electricity</td>\n",
       "      <td>R1</td>\n",
       "      <td>19.5000</td>\n",
       "      <td>2020</td>\n",
       "    </tr>\n",
       "    <tr>\n",
       "      <th>1</th>\n",
       "      <td>('all-year', 'all-week', 'night')</td>\n",
       "      <td>gas</td>\n",
       "      <td>R1</td>\n",
       "      <td>7.1528</td>\n",
       "      <td>2020</td>\n",
       "    </tr>\n",
       "    <tr>\n",
       "      <th>2</th>\n",
       "      <td>('all-year', 'all-week', 'night')</td>\n",
       "      <td>heat</td>\n",
       "      <td>R1</td>\n",
       "      <td>100.0000</td>\n",
       "      <td>2020</td>\n",
       "    </tr>\n",
       "    <tr>\n",
       "      <th>3</th>\n",
       "      <td>('all-year', 'all-week', 'night')</td>\n",
       "      <td>CO2f</td>\n",
       "      <td>R1</td>\n",
       "      <td>0.0831</td>\n",
       "      <td>2020</td>\n",
       "    </tr>\n",
       "    <tr>\n",
       "      <th>4</th>\n",
       "      <td>('all-year', 'all-week', 'morning')</td>\n",
       "      <td>electricity</td>\n",
       "      <td>R1</td>\n",
       "      <td>19.5000</td>\n",
       "      <td>2020</td>\n",
       "    </tr>\n",
       "  </tbody>\n",
       "</table>\n",
       "</div>"
      ],
      "text/plain": [
       "                             timeslice    commodity region    prices  year\n",
       "0    ('all-year', 'all-week', 'night')  electricity     R1   19.5000  2020\n",
       "1    ('all-year', 'all-week', 'night')          gas     R1    7.1528  2020\n",
       "2    ('all-year', 'all-week', 'night')         heat     R1  100.0000  2020\n",
       "3    ('all-year', 'all-week', 'night')         CO2f     R1    0.0831  2020\n",
       "4  ('all-year', 'all-week', 'morning')  electricity     R1   19.5000  2020"
      ]
     },
     "execution_count": 14,
     "metadata": {},
     "output_type": "execute_result"
    }
   ],
   "source": [
    "MCAPrices = pd.read_csv(\"/Users/alexanderkell/Documents/SGI/Projects/6-Platform-MockUp/Proposal/Results/MCAPrices.csv\")\n",
    "MCAPrices.head()"
   ]
  },
  {
   "cell_type": "code",
   "execution_count": 13,
   "metadata": {},
   "outputs": [
    {
     "name": "stdout",
     "output_type": "stream",
     "text": [
      "CO2f\n"
     ]
    },
    {
     "data": {
      "image/png": "[encoded data removed]",
      "text/plain": [
       "<Figure size 432x288 with 1 Axes>"
      ]
     },
     "metadata": {
      "needs_background": "light"
     },
     "output_type": "display_data"
    },
    {
     "name": "stdout",
     "output_type": "stream",
     "text": [
      "electricity\n"
     ]
    },
    {
     "data": {
      "image/png": "[encoded data removed]",
      "text/plain": [
       "<Figure size 432x288 with 1 Axes>"
      ]
     },
     "metadata": {
      "needs_background": "light"
     },
     "output_type": "display_data"
    },
    {
     "name": "stdout",
     "output_type": "stream",
     "text": [
      "gas\n"
     ]
    },
    {
     "data": {
      "image/png": "[encoded data removed]",
      "text/plain": [
       "<Figure size 432x288 with 1 Axes>"
      ]
     },
     "metadata": {
      "needs_background": "light"
     },
     "output_type": "display_data"
    },
    {
     "name": "stdout",
     "output_type": "stream",
     "text": [
      "heat\n"
     ]
    },
    {
     "data": {
      "image/png": "[encoded data removed]",
      "text/plain": [
       "<Figure size 432x288 with 1 Axes>"
      ]
     },
     "metadata": {
      "needs_background": "light"
     },
     "output_type": "display_data"
    }
   ],
   "source": [
    "for group in MCAPrices.groupby(\"commodity\"):\n",
    "    print(group[0])\n",
    "    sns.lineplot(data=group[1], x=\"year\", y=\"prices\", hue=\"commodity\")\n",
    "    plt.show()\n",
    "    plt.close()"
   ]
  },
  {
   "cell_type": "code",
   "execution_count": 19,
   "metadata": {},
   "outputs": [
    {
     "name": "stdout",
     "output_type": "stream",
     "text": [
      "CO2f\n"
     ]
    },
    {
     "data": {
      "image/png": "[encoded data removed]",
      "text/plain": [
       "<Figure size 432x288 with 1 Axes>"
      ]
     },
     "metadata": {
      "needs_background": "light"
     },
     "output_type": "display_data"
    },
    {
     "name": "stdout",
     "output_type": "stream",
     "text": [
      "electricity\n"
     ]
    },
    {
     "data": {
      "image/png": "[encoded data removed]",
      "text/plain": [
       "<Figure size 432x288 with 1 Axes>"
      ]
     },
     "metadata": {
      "needs_background": "light"
     },
     "output_type": "display_data"
    },
    {
     "name": "stdout",
     "output_type": "stream",
     "text": [
      "gas\n"
     ]
    },
    {
     "data": {
      "image/png": "[encoded data removed]",
      "text/plain": [
       "<Figure size 432x288 with 1 Axes>"
      ]
     },
     "metadata": {
      "needs_background": "light"
     },
     "output_type": "display_data"
    },
    {
     "name": "stdout",
     "output_type": "stream",
     "text": [
      "heat\n"
     ]
    },
    {
     "data": {
      "image/png": "[encoded data removed]",
      "text/plain": [
       "<Figure size 432x288 with 1 Axes>"
      ]
     },
     "metadata": {
      "needs_background": "light"
     },
     "output_type": "display_data"
    }
   ],
   "source": [
    "for group in MCAPrices.groupby(\"commodity\"):\n",
    "    print(group[0])\n",
    "    sns.barplot(data=group[1], x=\"year\", y=\"prices\", hue=\"commodity\")\n",
    "    plt.show()\n",
    "    plt.close()"
   ]
  }
 ],
 "metadata": {
  "kernelspec": {
   "display_name": "Python 3",
   "language": "python",
   "name": "python3"
  },
  "language_info": {
   "codemirror_mode": {
    "name": "ipython",
    "version": 3
   },
   "file_extension": ".py",
   "mimetype": "text/x-python",
   "name": "python",
   "nbconvert_exporter": "python",
   "pygments_lexer": "ipython3",
   "version": "3.7.9"
  }
 },
 "nbformat": 4,
 "nbformat_minor": 4
}
